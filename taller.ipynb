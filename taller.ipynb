{
 "cells": [
  {
   "cell_type": "markdown",
   "id": "77c40303",
   "metadata": {
    "vscode": {
     "languageId": "latex"
    }
   },
   "source": [
    "# Universidad Nacional de Colombia  \n",
    "## Sede Bogotá  \n",
    "### Facultad de Ingieneria\n",
    "### Departamento de ingieneria de sistemas e industrial\n",
    "\n",
    "---\n",
    "\n",
    "## **Taller de Modelos y Simulación**\n",
    "\n",
    "**Título del Taller:**  \n",
    "*Taller 1*\n",
    "\n",
    "**Estudiantes:**  \n",
    "*Jare Mijail Ramirez Escalante*\n",
    "\n",
    "*Juan Jeronimo Gomez*  \n",
    "\n",
    "*Sergio*\n",
    "\n",
    "*Laura Sofia*\n",
    "\n",
    "**Grupo:**  \n",
    "*03*\n",
    "\n",
    "**Periodo:**  \n",
    "*2025-1*\n",
    "\n",
    "**Fecha de entrega:**  \n",
    "*mayo 02/2025*\n",
    "\n",
    "---\n",
    "\n",
    "*El source code junto a este documento es encuentran disponible en el siguiente repositorio publico de github https://github.com/JaredMijailRE/simulador-por-eventos*\n"
   ]
  },
  {
   "cell_type": "markdown",
   "id": "5cee604e",
   "metadata": {},
   "source": [
    "# Generacion de Variables Aleatorias\n",
    "\n",
    "---"
   ]
  },
  {
   "cell_type": "markdown",
   "id": "ca53ca53",
   "metadata": {},
   "source": [
    "## Marco Teorico"
   ]
  },
  {
   "cell_type": "markdown",
   "id": "b3a1c787",
   "metadata": {},
   "source": [
    "Para explicar de forma correcta la transformada inversa y los temas siguientes vamos a realizar un repaso de algunos conceptos basicos de estadistica."
   ]
  },
  {
   "cell_type": "markdown",
   "id": "06cfcc9c",
   "metadata": {
    "vscode": {
     "languageId": "latex"
    }
   },
   "source": [
    "### Variables Aleatorias"
   ]
  },
  {
   "cell_type": "markdown",
   "id": "b335e60f",
   "metadata": {},
   "source": [
    "Una variable aleatoria es una función que permite ir de un conjunto omega (el conjunto de los eventos) a un conjunto numérico, osea le asigna un número real a cada resultado de un experimento aleatorio.\n",
    "\n",
    "$$\n",
    "X: \\Omega \\rightarrow \\mathbb{R}\n",
    "$$\n",
    "\n",
    "donde:\n",
    "\n",
    "- $(\\Omega)$ es el espacio muestral del experimento aleatorio.\n",
    "\n",
    "- $(\\mathbb{R})$ representa el conjunto de los números reales.\n",
    "\n",
    "- $(X(\\omega))$ es el valor numérico asignado al resultado $(\\omega)$.\n"
   ]
  },
  {
   "cell_type": "markdown",
   "id": "7037eb36",
   "metadata": {},
   "source": [
    "### Distribucion de probabilidad"
   ]
  },
  {
   "cell_type": "markdown",
   "id": "660fae89",
   "metadata": {},
   "source": [
    "Una distribución de probabilidad le asigna a cada valor posible de una variable aleatoria la probabilidad de que dicho valor ocurra. Es decir, le asigna a cada número real —al cual se le ha asociado previamente, a través de la variable aleatoria, como preimagen un evento— la probabilidad de que ese evento ocurra.\n",
    "\n",
    "Esta puede ser discreta o continua, y a partir de ella se pueden calcular medidas de centralidad como el promedio o la moda, así como también medidas de dispersión (como el rango, la varianza, etc.) y medidas de posición, como los cuartiles.\n",
    "\n",
    "Dependiendo de si tenemos una distribución discreta o continua, se utiliza una función de masa de probabilidad (PMF) o una función de densidad de probabilidad (PDF), respectivamente. Sin embargo, a partir de estas funciones no siempre se puede obtener directamente una probabilidad, sino que esta se calcula a través de la función de distribución acumulada.\n",
    "\n",
    "La función de distribución acumulada (CDF) sí entrega probabilidades reales, ya que proporciona el valor acumulado de las mismas. Esta función se obtiene como una sumatoria (en el caso discreto) o una integral (en el caso continuo) sobre la función de masa o densidad de probabilidad."
   ]
  },
  {
   "cell_type": "markdown",
   "id": "d480024f",
   "metadata": {},
   "source": [
    "####  Distribución discreta\n",
    "\n",
    "Cuando la variable aleatoria es **discreta**, se define una **función de masa de probabilidad (PMF)**:\n",
    "\n",
    "$$\n",
    "P(X = x_i) = p(x_i)\n",
    "$$\n",
    "\n",
    "Y se cumple que:\n",
    "\n",
    "$$\n",
    "\\sum_{i} p(x_i) = 1\n",
    "$$"
   ]
  },
  {
   "cell_type": "markdown",
   "id": "7040543c",
   "metadata": {},
   "source": [
    "####  Distribución continua\n",
    "\n",
    "Cuando la variable aleatoria es **continua**, se define una **función de densidad de probabilidad (PDF)**:\n",
    "\n",
    "$$\n",
    "f(x) \\geq 0 \\quad \\text{para todo } x\n",
    "$$\n",
    "\n",
    "Y el área total bajo la curva es:\n",
    "\n",
    "$$\n",
    "\\int_{-\\infty}^{\\infty} f(x) \\, dx = 1\n",
    "$$\n",
    "\n",
    "La probabilidad de que la variable esté en un intervalo se calcula como:\n",
    "\n",
    "$$\n",
    "P(a \\leq X \\leq b) = \\int_a^b f(x) \\, dx\n",
    "$$"
   ]
  },
  {
   "attachments": {
    "image-2.png": {
     "image/png": "[encoded data removed]"
    },
    "image.png": {
     "image/png": "[encoded data removed]"
    }
   },
   "cell_type": "markdown",
   "id": "b344f071",
   "metadata": {},
   "source": [
    "#### Distribucion Triangular\n",
    "\n",
    "Esta distribucion se caracteriza por contar con puntos a, b y c, de los cuales a es el minimo, b el maximo y c la moda\n",
    "\n",
    "Su funcion de densidad de probabilidad es la siguiente:\n",
    "\n",
    "![image.png](attachment:image.png)\n",
    "\n",
    "Y su funcion de probabilidad acumulada es:\n",
    "\n",
    "![image-2.png](attachment:image-2.png)"
   ]
  },
  {
   "cell_type": "markdown",
   "id": "9f14cccc",
   "metadata": {},
   "source": [
    "#### Distribucion Trapezoidal"
   ]
  },
  {
   "cell_type": "markdown",
   "id": "a18eaee5",
   "metadata": {},
   "source": [
    "### 1. Metodo Transformada Inversa"
   ]
  },
  {
   "cell_type": "markdown",
   "id": "9860f4ff",
   "metadata": {},
   "source": [
    "Es un metodo utilizado para la generacion de numeros aleatorios, de cualquier distribucion de probabilidad continua, cuando se conoce la inversa de su funcion de distribucion acumulada.\n",
    "\n",
    "Para este metodo\n",
    "\n",
    "1. Se genera un numero aleatorio u apartir de la distribucion uniforme en el intervalo (0,1)\n",
    "\n",
    "2. Se halla la inversa de la funcion de distribucion F\n",
    "\n",
    "3. Se calcula X, dandole a la inversa de F el valor u"
   ]
  },
  {
   "cell_type": "markdown",
   "id": "93465710",
   "metadata": {},
   "source": [
    "### 2. Metodo de composicion"
   ]
  },
  {
   "cell_type": "markdown",
   "id": "727d56cc",
   "metadata": {},
   "source": [
    "### 3. Metodo de rechazo"
   ]
  },
  {
   "cell_type": "markdown",
   "id": "2420f09e",
   "metadata": {},
   "source": [
    "## Desarrolar algoritmos correspondientes"
   ]
  },
  {
   "cell_type": "markdown",
   "id": "2ae04d1a",
   "metadata": {},
   "source": [
    "### 1. Desarrollar los algoritmos correspondientes al: \n"
   ]
  },
  {
   "attachments": {
    "image.png": {
     "image/png": "[encoded data removed]"
    }
   },
   "cell_type": "markdown",
   "id": "8db22ba3",
   "metadata": {},
   "source": [
    "Para las siguientes graficas realizar dos metodos de generacion de variables aleatorias.\n",
    "\n",
    "![image.png](attachment:image.png)"
   ]
  },
  {
   "cell_type": "markdown",
   "id": "56e55ca5",
   "metadata": {},
   "source": [
    "#### a) método de la transformada inversa"
   ]
  },
  {
   "cell_type": "markdown",
   "id": "36180da3",
   "metadata": {},
   "source": [
    "##### primera grafica\n",
    "\n",
    "Para la primera grafica tenemos una distribucion triangular, ya vimos como es su funcion de distribucion acumulada, de forma que necesitamos la inversa de esta funcion lo que corresponde a:\n",
    "\n",
    "$$\n",
    "F^{-1}(u) =\n",
    "\\begin{cases}\n",
    "a + \\sqrt{u (b - a)(c - a)} & \\text{si } u < \\frac{c - a}{b - a} \\\\\n",
    "b - \\sqrt{(1 - u)(b - a)(b - c)} & \\text{si } u \\geq \\frac{c - a}{b - a}\n",
    "\\end{cases}\n",
    "$$\n",
    "\n",
    "ahora solo tenemos que implementar esta misma funcion en python realmente solo necesitamos escribir las dos formulas y un condicional, esta formula es general de forma que esta funcion de python va a recibir como parametros tres variables, correspondientes a las incognitas de nuestra ecuacion.\n"
   ]
  },
  {
   "cell_type": "code",
   "execution_count": 1,
   "id": "23610b21",
   "metadata": {},
   "outputs": [],
   "source": [
    "import numpy as np\n",
    "from numba import jit\n",
    "\n",
    "@jit(nopython=True)\n",
    "def inverse_cdf_triangular(a, b, c):\n",
    "    u = np.random.uniform(0, 1)\n",
    "    Fc = (c - a) / (b - a)\n",
    "    if u < Fc:\n",
    "        return a + np.sqrt(u * (b - a) * (c - a))\n",
    "    else:\n",
    "        return b - np.sqrt((1 - u) * (b - a) * (b - c))"
   ]
  },
  {
   "cell_type": "markdown",
   "id": "119f78c0",
   "metadata": {},
   "source": [
    "Ahora vamos a definir nuestros puntos en variables, que recordemos solo utilizamos nuestra coordenada X"
   ]
  },
  {
   "cell_type": "code",
   "execution_count": 2,
   "id": "52f50fdf",
   "metadata": {},
   "outputs": [],
   "source": [
    "a = 8 # inicio del triangulo\n",
    "b = 10 # fin del triangulo\n",
    "c = 9 # pico del triangulo"
   ]
  },
  {
   "cell_type": "markdown",
   "id": "ac63b52c",
   "metadata": {},
   "source": [
    "Ahora definimos nuestra funcion de simulacion que simplemente va a correr n veces nuestro generados de numeros aleatorios."
   ]
  },
  {
   "cell_type": "code",
   "execution_count": 3,
   "id": "3e7fc655",
   "metadata": {},
   "outputs": [],
   "source": [
    "def simulation(n, funcion):\n",
    "    result = np.empty(n, dtype=np.float64)\n",
    "    for i in range(n):\n",
    "        result[i] = funcion()\n",
    "    return result"
   ]
  },
  {
   "cell_type": "markdown",
   "id": "a2fbc6df",
   "metadata": {},
   "source": [
    "Ahora vamos a ejecutar nuestra simulacion, vamos a ver los primeros 10 resultados y despues graficaremos nuestra distribucion."
   ]
  },
  {
   "cell_type": "code",
   "execution_count": 4,
   "id": "abed9fcf",
   "metadata": {},
   "outputs": [
    {
     "name": "stdout",
     "output_type": "stream",
     "text": [
      "Simulación de 100,000,000 muestras de la distribución triangular:\n",
      "[9.32993664 9.03157125 8.23736962 9.4217733  9.11089219 8.44722576\n",
      " 9.51666339 9.14214518 8.33786169 9.11517856]\n"
     ]
    }
   ],
   "source": [
    "result = simulation(100000000, lambda: inverse_cdf_triangular(a, b, c))\n",
    "print(\"Simulación de 100,000,000 muestras de la distribución triangular:\")\n",
    "print(result[:10]) "
   ]
  },
  {
   "cell_type": "code",
   "execution_count": 5,
   "id": "280aece1",
   "metadata": {},
   "outputs": [],
   "source": [
    "import matplotlib.pyplot as plt\n",
    "\n",
    "def makeGraph(result):\n",
    "    plt.hist(result, bins=1000, density=True)\n",
    "    plt.title(\"Distribución\")\n",
    "    plt.xlabel(\"x\")\n",
    "    plt.ylabel(\"Densidad\")\n",
    "\n",
    "    plt.show()"
   ]
  },
  {
   "cell_type": "code",
   "execution_count": 6,
   "id": "741391d2",
   "metadata": {},
   "outputs": [
    {
     "data": {
      "image/png": "[encoded data removed]",
      "text/plain": [
       "<Figure size 640x480 with 1 Axes>"
      ]
     },
     "metadata": {},
     "output_type": "display_data"
    }
   ],
   "source": [
    "makeGraph(result)"
   ]
  },
  {
   "cell_type": "markdown",
   "id": "051cda75",
   "metadata": {},
   "source": [
    "Como podemos observar hemos generado numeros aleatorios para la distribucin deseada."
   ]
  },
  {
   "cell_type": "markdown",
   "id": "fa8f99dd",
   "metadata": {},
   "source": [
    "##### segunda grafica"
   ]
  },
  {
   "cell_type": "markdown",
   "id": "b343c061",
   "metadata": {},
   "source": [
    "Nuestra segunda grafica es una distribucion trapezoidal por tanto realizaremos un procedimiento similar utilizando su funcion de distribucion acumulada."
   ]
  },
  {
   "cell_type": "code",
   "execution_count": 7,
   "id": "a6a2096a",
   "metadata": {},
   "outputs": [],
   "source": [
    "@jit(nopython=True)\n",
    "def inverse_cdf_trapezoidal( a, b, c, d):\n",
    "    u = np.random.random()\n",
    "    \n",
    "    h = 2 / (d + c - a - b)\n",
    "\n",
    "    A1 = (b - a) * h / 2\n",
    "    A2 = (c - b) * h\n",
    "    A3 = (d - c) * h / 2\n",
    "\n",
    "    if u < A1:\n",
    "        return a + np.sqrt((2 * u * (b - a)) / h)\n",
    "    elif u < A1 + A2:\n",
    "        return b + (u - A1) / h\n",
    "    elif u <= 1.0:\n",
    "        z = u - A1 - A2\n",
    "        return d - np.sqrt((2 * (A3 - z) * (d - c)) / h)\n",
    "    else:\n",
    "        raise ValueError(\"u debe estar en el intervalo [0, 1]\")"
   ]
  },
  {
   "cell_type": "markdown",
   "id": "2a19d39a",
   "metadata": {},
   "source": [
    "En el anterior codigo implementamos en una funcion de python la inversa de la distribucion acumulada de esta distribucion que corresponde a:\n",
    "\n",
    "## Inversa de la Función de Distribución Acumulada (CDF) – Distribución Trapezoidal\n",
    "\n",
    "La distribución trapezoidal está definida por cuatro parámetros: \\( a < b \\leq c < d \\). Su densidad tiene forma trapezoidal, con tramos lineales ascendentes y descendentes, y un tramo constante entre \\( b \\) y \\( c \\).\n",
    "\n",
    "La inversa de su función de distribución acumulada (CDF) se expresa por tramos, según el valor de una variable uniforme \\( u \\sim \\mathcal{U}(0,1) \\), de la siguiente manera:\n",
    "\n",
    "1. Altura del trapecio:\n",
    "\n",
    "$$\n",
    "h = \\frac{2}{(d + c - a - b)}\n",
    "$$\n",
    "\n",
    "2. Áreas acumuladas de los tres segmentos de la función:\n",
    "\n",
    "- Área bajo la rampa creciente (de \\( a \\) a \\( b \\)):\n",
    "\n",
    "$$\n",
    "A_1 = \\frac{(b - a) \\cdot h}{2}\n",
    "$$\n",
    "\n",
    "- Área bajo la parte constante (de \\( b \\) a \\( c \\)):\n",
    "\n",
    "$$\n",
    "A_2 = (c - b) \\cdot h\n",
    "$$\n",
    "\n",
    "- Área bajo la rampa decreciente (de \\( c \\) a \\( d \\)):\n",
    "\n",
    "$$\n",
    "A_3 = \\frac{(d - c) \\cdot h}{2}\n",
    "$$\n",
    "\n",
    "3. Inversa de la CDF por tramos:\n",
    "\n",
    "- Si \\( u < A_1 \\):\n",
    "\n",
    "$$\n",
    "x = a + \\sqrt{\\frac{2u(b - a)}{h}}\n",
    "$$\n",
    "\n",
    "- Si \\( A_1 \\leq u < A_1 + A_2 \\):\n",
    "\n",
    "$$\n",
    "x = b + \\frac{u - A_1}{h}\n",
    "$$\n",
    "\n",
    "- Si \\( A_1 + A_2 \\leq u \\leq 1 \\):\n",
    "\n",
    "$$\n",
    "x = d - \\sqrt{\\frac{2(d - c)(A_3 - (u - A_1 - A_2))}{h}}\n",
    "$$\n",
    "\n",
    "Esta función permite generar muestras aleatorias que siguen una distribución trapezoidal mediante el método de la transformada inversa.\n"
   ]
  },
  {
   "cell_type": "code",
   "execution_count": 8,
   "id": "c5e39690",
   "metadata": {},
   "outputs": [
    {
     "data": {
      "image/png": "[encoded data removed]",
      "text/plain": [
       "<Figure size 640x480 with 1 Axes>"
      ]
     },
     "metadata": {},
     "output_type": "display_data"
    }
   ],
   "source": [
    "d = 7\n",
    "result = simulation(100000000, lambda: inverse_cdf_trapezoidal(d, a, c, b))\n",
    "makeGraph(result)"
   ]
  },
  {
   "cell_type": "markdown",
   "id": "883e28d2",
   "metadata": {},
   "source": [
    "Ahora simplemente corremos multiples veces nuestra generacion de variables aleatorias y creamos la grafica de la misma, en donde obtenemos la forma esperada, la imagen como tal no establece los puntos sin embargo usamos los que ya teniamos mas uno que nos faltaba"
   ]
  },
  {
   "cell_type": "markdown",
   "id": "4bd41417",
   "metadata": {},
   "source": [
    "#### b) método de composición"
   ]
  },
  {
   "cell_type": "markdown",
   "id": "e46c48d9",
   "metadata": {},
   "source": [
    "# Problemas asignados a cada uno del grupo\n",
    "\n",
    "---"
   ]
  },
  {
   "cell_type": "markdown",
   "id": "f119887b",
   "metadata": {},
   "source": [
    "### Problema numero 9\n",
    "Barcos llegan a un puerto a la tasa de uno cada  1 ±  1/2    horas. Hay 6 muelles para atenderlos. Ellos también requieren  los servicios de una grúa para descargar y hay cinco de ellas. Después de descargar, 10% de los barcos permanecen para recarga de combustible antes de partir; los otros salen inmediatamente. Los barcos no requieren las grúas para la recarga. Simular las colas para los muelles  y las grúas asumiendo que toma  7(1/2)  ±  3  horas para descargar y 1  ± 1/2  horas para la recarga. Simular para que 100 barcos abandonen el puerto."
   ]
  }
 ],
 "metadata": {
  "kernelspec": {
   "display_name": ".venv",
   "language": "python",
   "name": "python3"
  },
  "language_info": {
   "codemirror_mode": {
    "name": "ipython",
    "version": 3
   },
   "file_extension": ".py",
   "mimetype": "text/x-python",
   "name": "python",
   "nbconvert_exporter": "python",
   "pygments_lexer": "ipython3",
   "version": "3.13.3"
  }
 },
 "nbformat": 4,
 "nbformat_minor": 5
}
