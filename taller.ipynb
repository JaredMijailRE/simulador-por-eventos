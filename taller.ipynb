{
 "cells": [
  {
   "cell_type": "markdown",
   "id": "77c40303",
   "metadata": {
    "vscode": {
     "languageId": "latex"
    }
   },
   "source": [
    "# Universidad Nacional de Colombia  \n",
    "## Sede Bogotá  \n",
    "### Facultad de Ingieneria\n",
    "### Departamento de ingieneria de sistemas e industrial\n",
    "\n",
    "---\n",
    "\n",
    "## **Taller de Modelos y Simulación**\n",
    "\n",
    "**Título del Taller:**  \n",
    "*Taller 1*\n",
    "\n",
    "**Estudiantes:**  \n",
    "*Jare Mijail Ramirez Escalante*\n",
    "*Juan Jeronimo Gomez*  \n",
    "*Sergio*\n",
    "*Laura Sofia*\n",
    "\n",
    "**Grupo:**  \n",
    "*03*\n",
    "\n",
    "**Periodo:**  \n",
    "*2025-1*\n",
    "\n",
    "**Fecha de entrega:**  \n",
    "*mayo 02/2025*\n",
    "\n",
    "---\n"
   ]
  },
  {
   "cell_type": "markdown",
   "id": "5cee604e",
   "metadata": {},
   "source": [
    "# Generacion de Variables Aleatorias\n",
    "\n",
    "---"
   ]
  },
  {
   "cell_type": "markdown",
   "id": "ca53ca53",
   "metadata": {},
   "source": [
    "## Marco Teorico"
   ]
  },
  {
   "cell_type": "markdown",
   "id": "a18eaee5",
   "metadata": {},
   "source": [
    "### 1. Metodo Transformada Inversa\n",
    " \n",
    "Para explicar de forma correcta la transformada inversa y los temas siguientes vamos a realizar un repaso de algunos conceptos basicos de estadistica."
   ]
  },
  {
   "cell_type": "markdown",
   "id": "06cfcc9c",
   "metadata": {
    "vscode": {
     "languageId": "latex"
    }
   },
   "source": [
    "### Variables Aleatorias"
   ]
  },
  {
   "cell_type": "markdown",
   "id": "b335e60f",
   "metadata": {},
   "source": [
    "Una variable aleatoria es una función que permite ir de un conjunto omega (el conjunto de los eventos) a un conjunto numérico, osea le asigna un número real a cada resultado de un experimento aleatorio.\n",
    "\n",
    "$$\n",
    "X: \\Omega \\rightarrow \\mathbb{R}\n",
    "$$\n",
    "\n",
    "donde:\n",
    "\n",
    "- $(\\Omega)$ es el espacio muestral del experimento aleatorio.\n",
    "\n",
    "- $(\\mathbb{R})$ representa el conjunto de los números reales.\n",
    "\n",
    "- $(X(\\omega))$ es el valor numérico asignado al resultado $(\\omega)$.\n"
   ]
  },
  {
   "cell_type": "markdown",
   "id": "7037eb36",
   "metadata": {},
   "source": [
    "### Distribucion de probabilidad"
   ]
  },
  {
   "cell_type": "markdown",
   "id": "b344f071",
   "metadata": {},
   "source": [
    "Una distribución de probabilidad le asigna a cada valor posible de una variable aleatoria, la probabilidad de que este valor ocurra, osea le asigna a cada número real, a los que se le asignó previamente atraves de la variable aleatoria, como preimagen un evento, la probabilidad de que este ocurra.\n",
    "\n",
    "Esta puede ser discreta o continua, además de que se pueden calcular medidas de centralidad como promedio o moda, o también se pueden calcular medidas de  dispersión (rango, varianza ...) o medidas de posición como son los cuartiles.\n",
    "\n",
    "Ahora dependiendo de si tenemos una distribucion discreta o continua, tendemos una funcion de masa de probabilidad o una funcion de densidad de probabilidad. Ahora de estas funciones no podemos calcular una probabilidad directamente, sino de la funcion de distribucion acumulada.\n",
    "\n",
    "La funcion de distribucion acumulada (CDF), si da probabilidades reales, dando un valor acumulada de las mismas, esta es una sumatoria o una integral sobre la funcion de masa o densidad de probabilidad.\n",
    "\n",
    "####  Distribución discreta\n",
    "\n",
    "Cuando la variable aleatoria es **discreta**, se define una **función de masa de probabilidad (PMF)**:\n",
    "\n",
    "$$\n",
    "P(X = x_i) = p(x_i)\n",
    "$$\n",
    "\n",
    "Y se cumple que:\n",
    "\n",
    "$$\n",
    "\\sum_{i} p(x_i) = 1\n",
    "$$\n",
    "\n",
    "\n",
    "####  Distribución continua\n",
    "\n",
    "Cuando la variable aleatoria es **continua**, se define una **función de densidad de probabilidad (PDF)**:\n",
    "\n",
    "$$\n",
    "f(x) \\geq 0 \\quad \\text{para todo } x\n",
    "$$\n",
    "\n",
    "Y el área total bajo la curva es:\n",
    "\n",
    "$$\n",
    "\\int_{-\\infty}^{\\infty} f(x) \\, dx = 1\n",
    "$$\n",
    "\n",
    "La probabilidad de que la variable esté en un intervalo se calcula como:\n",
    "\n",
    "$$\n",
    "P(a \\leq X \\leq b) = \\int_a^b f(x) \\, dx\n",
    "$$\n"
   ]
  },
  {
   "cell_type": "markdown",
   "id": "93465710",
   "metadata": {},
   "source": [
    "### 2. Metodo de composicion"
   ]
  },
  {
   "cell_type": "markdown",
   "id": "727d56cc",
   "metadata": {},
   "source": [
    "### 3. Metodo de rechazo"
   ]
  },
  {
   "cell_type": "markdown",
   "id": "2420f09e",
   "metadata": {},
   "source": [
    "## Desarrolar algoritmos correspondientes"
   ]
  },
  {
   "cell_type": "markdown",
   "id": "e46c48d9",
   "metadata": {},
   "source": [
    "# Problemas asignados a cada uno del grupo\n",
    "\n",
    "---"
   ]
  }
 ],
 "metadata": {
  "kernelspec": {
   "display_name": ".venv",
   "language": "python",
   "name": "python3"
  },
  "language_info": {
   "codemirror_mode": {
    "name": "ipython",
    "version": 3
   },
   "file_extension": ".py",
   "mimetype": "text/x-python",
   "name": "python",
   "nbconvert_exporter": "python",
   "pygments_lexer": "ipython3",
   "version": "3.13.3"
  }
 },
 "nbformat": 4,
 "nbformat_minor": 5
}
