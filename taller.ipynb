{
 "cells": [
  {
   "cell_type": "markdown",
   "id": "77c40303",
   "metadata": {
    "vscode": {
     "languageId": "latex"
    }
   },
   "source": [
    "# Universidad Nacional de Colombia  \n",
    "## Sede Bogotá  \n",
    "### Facultad de Ingieneria\n",
    "### Departamento de ingieneria de sistemas e industrial\n",
    "\n",
    "---\n",
    "\n",
    "## **Taller de Modelos y Simulación**\n",
    "\n",
    "**Título del Taller:**  \n",
    "*Taller 1*\n",
    "\n",
    "**Estudiantes:**  \n",
    "*Jare Mijail Ramirez Escalante*\n",
    "*Juan Jeronimo Gomez*  \n",
    "*Sergio*\n",
    "*Laura Sofia*\n",
    "\n",
    "**Grupo:**  \n",
    "*03*\n",
    "\n",
    "**Periodo:**  \n",
    "*2025-1*\n",
    "\n",
    "**Fecha de entrega:**  \n",
    "*mayo 02/2025*\n",
    "\n",
    "---\n"
   ]
  },
  {
   "cell_type": "markdown",
   "id": "5cee604e",
   "metadata": {},
   "source": [
    "# Generacion de Variables Aleatorias\n",
    "\n",
    "---"
   ]
  },
  {
   "cell_type": "markdown",
   "id": "ca53ca53",
   "metadata": {},
   "source": [
    "## Marco Teorico"
   ]
  },
  {
   "cell_type": "markdown",
   "id": "a18eaee5",
   "metadata": {},
   "source": [
    "### 1. Metodo Transformada Inversa"
   ]
  },
  {
   "cell_type": "markdown",
   "id": "93465710",
   "metadata": {},
   "source": [
    "### 2. Metodo de composicion"
   ]
  },
  {
   "cell_type": "markdown",
   "id": "727d56cc",
   "metadata": {},
   "source": [
    "### 3. Metodo de rechazo"
   ]
  },
  {
   "cell_type": "markdown",
   "id": "2420f09e",
   "metadata": {},
   "source": [
    "## Desarrolar algoritmos correspondientes"
   ]
  },
  {
   "cell_type": "markdown",
   "id": "e46c48d9",
   "metadata": {},
   "source": [
    "# Problemas asignados a cada uno del grupo\n",
    "\n",
    "---"
   ]
  }
 ],
 "metadata": {
  "kernelspec": {
   "display_name": ".venv",
   "language": "python",
   "name": "python3"
  },
  "language_info": {
   "codemirror_mode": {
    "name": "ipython",
    "version": 3
   },
   "file_extension": ".py",
   "mimetype": "text/x-python",
   "name": "python",
   "nbconvert_exporter": "python",
   "pygments_lexer": "ipython3",
   "version": "3.13.3"
  }
 },
 "nbformat": 4,
 "nbformat_minor": 5
}
