{
  "cells": [
    {
      "cell_type": "markdown",
      "id": "77c40303",
      "metadata": {
        "vscode": {
          "languageId": "latex"
        },
        "id": "77c40303"
      },
      "source": [
        "# Universidad Nacional de Colombia  \n",
        "## Sede Bogotá  \n",
        "### Facultad de Ingeniería\n",
        "### Departamento de Ingeniería de Sistemas e Industrial\n",
        "\n",
        "---\n",
        "\n",
        "## **Taller de Modelos y Simulación**\n",
        "\n",
        "**Título del Taller:**  \n",
        "*Taller 1*\n",
        "\n",
        "**Estudiantes:**  \n",
        "*Jare Mijail Ramirez Escalante*\n",
        "\n",
        "*Juan Jeronimo Gómez Rubiano*  \n",
        "\n",
        "*Sergio Nicolás Correa Escbobar*\n",
        "\n",
        "*Laura Sofia Vargas Rodríguez*\n",
        "\n",
        "**Grupo:**  \n",
        "*0307*\n",
        "\n",
        "**Periodo:**  \n",
        "*2025-1*\n",
        "\n",
        "**Fecha de entrega:**  \n",
        "*mayo 09/2025*\n",
        "\n",
        "---\n",
        "\n",
        "*El source code junto a este documento es encuentran disponible en el siguiente repositorio publico de github https://github.com/JaredMijailRE/simulador-por-eventos*\n"
      ]
    },
    {
      "cell_type": "markdown",
      "id": "5cee604e",
      "metadata": {
        "id": "5cee604e"
      },
      "source": [
        "# Generacion de Variables Aleatorias\n",
        "\n",
        "---"
      ]
    },
    {
      "cell_type": "markdown",
      "id": "ca53ca53",
      "metadata": {
        "id": "ca53ca53"
      },
      "source": [
        "## Marco Teorico"
      ]
    },
    {
      "cell_type": "markdown",
      "id": "b3a1c787",
      "metadata": {
        "id": "b3a1c787"
      },
      "source": [
        "Para explicar de forma correcta la transformada inversa y los temas siguientes vamos a realizar un repaso de algunos conceptos basicos de estadistica."
      ]
    },
    {
      "cell_type": "markdown",
      "id": "06cfcc9c",
      "metadata": {
        "vscode": {
          "languageId": "latex"
        },
        "id": "06cfcc9c"
      },
      "source": [
        "### Variables Aleatorias"
      ]
    },
    {
      "cell_type": "markdown",
      "id": "b335e60f",
      "metadata": {
        "id": "b335e60f"
      },
      "source": [
        "Una variable aleatoria es una función que permite ir de un conjunto omega (el conjunto de los eventos) a un conjunto numérico, osea le asigna un número real a cada resultado de un experimento aleatorio.\n",
        "\n",
        "$$\n",
        "X: \\Omega \\rightarrow \\mathbb{R}\n",
        "$$\n",
        "\n",
        "donde:\n",
        "\n",
        "- $(\\Omega)$ es el espacio muestral del experimento aleatorio.\n",
        "\n",
        "- $(\\mathbb{R})$ representa el conjunto de los números reales.\n",
        "\n",
        "- $(X(\\omega))$ es el valor numérico asignado al resultado $(\\omega)$.\n"
      ]
    },
    {
      "cell_type": "markdown",
      "id": "7037eb36",
      "metadata": {
        "id": "7037eb36"
      },
      "source": [
        "### Distribucion de probabilidad"
      ]
    },
    {
      "cell_type": "markdown",
      "id": "660fae89",
      "metadata": {
        "id": "660fae89"
      },
      "source": [
        "Una distribución de probabilidad le asigna a cada valor posible de una variable aleatoria la probabilidad de que dicho valor ocurra. Es decir, le asigna a cada número real —al cual se le ha asociado previamente, a través de la variable aleatoria, como preimagen un evento— la probabilidad de que ese evento ocurra.\n",
        "\n",
        "Esta puede ser discreta o continua, y a partir de ella se pueden calcular medidas de centralidad como el promedio o la moda, así como también medidas de dispersión (como el rango, la varianza, etc.) y medidas de posición, como los cuartiles.\n",
        "\n",
        "Dependiendo de si tenemos una distribución discreta o continua, se utiliza una función de masa de probabilidad (PMF) o una función de densidad de probabilidad (PDF), respectivamente. Sin embargo, a partir de estas funciones no siempre se puede obtener directamente una probabilidad, sino que esta se calcula a través de la función de distribución acumulada.\n",
        "\n",
        "La función de distribución acumulada (CDF) sí entrega probabilidades reales, ya que proporciona el valor acumulado de las mismas. Esta función se obtiene como una sumatoria (en el caso discreto) o una integral (en el caso continuo) sobre la función de masa o densidad de probabilidad."
      ]
    },
    {
      "cell_type": "markdown",
      "id": "d480024f",
      "metadata": {
        "id": "d480024f"
      },
      "source": [
        "####  Distribución discreta\n",
        "\n",
        "Cuando la variable aleatoria es **discreta**, se define una **función de masa de probabilidad (PMF)**:\n",
        "\n",
        "$$\n",
        "P(X = x_i) = p(x_i)\n",
        "$$\n",
        "\n",
        "Y se cumple que:\n",
        "\n",
        "$$\n",
        "\\sum_{i} p(x_i) = 1\n",
        "$$"
      ]
    },
    {
      "cell_type": "markdown",
      "id": "7040543c",
      "metadata": {
        "id": "7040543c"
      },
      "source": [
        "####  Distribución continua\n",
        "\n",
        "Cuando la variable aleatoria es **continua**, se define una **función de densidad de probabilidad (PDF)**:\n",
        "\n",
        "$$\n",
        "f(x) \\geq 0 \\quad \\text{para todo } x\n",
        "$$\n",
        "\n",
        "Y el área total bajo la curva es:\n",
        "\n",
        "$$\n",
        "\\int_{-\\infty}^{\\infty} f(x) \\, dx = 1\n",
        "$$\n",
        "\n",
        "La probabilidad de que la variable esté en un intervalo se calcula como:\n",
        "\n",
        "$$\n",
        "P(a \\leq X \\leq b) = \\int_a^b f(x) \\, dx\n",
        "$$"
      ]
    },
    {
      "cell_type": "markdown",
      "id": "b344f071",
      "metadata": {
        "id": "b344f071"
      },
      "source": [
        "#### Distribucion Triangular\n",
        "\n",
        "Esta distribucion se caracteriza por contar con puntos a, b y c, de los cuales a es el minimo, b el maximo y c la moda\n",
        "\n",
        "Su funcion de densidad de probabilidad es la siguiente:\n",
        "\n",
        "![image.png](attachment:image.png)\n",
        "\n",
        "Y su funcion de probabilidad acumulada es:\n",
        "\n",
        "![image-2.png](attachment:image-2.png)"
      ]
    },
    {
      "cell_type": "markdown",
      "id": "9f14cccc",
      "metadata": {
        "id": "9f14cccc"
      },
      "source": [
        "#### Distribucion Trapezoidal"
      ]
    },
    {
      "cell_type": "markdown",
      "id": "cefe2527",
      "metadata": {
        "id": "cefe2527"
      },
      "source": [
        "La distribucion trapezoidal es una distribucion continua que se caracteriza por contar con 4 puntos a, b, c y d, de los cuales a es el minimo, b el maximo y c la moda\n",
        "Su funcion de densidad de probabilidad es la siguiente:\n",
        "\n",
        "![image.png](attachment:image.png)\n",
        "\n",
        "Y su funcion de probabilidad acumulada es:\n",
        "\n",
        "![image-2.png](attachment:image-2.png)"
      ]
    },
    {
      "cell_type": "markdown",
      "id": "a18eaee5",
      "metadata": {
        "id": "a18eaee5"
      },
      "source": [
        "### 1. Metodo Transformada Inversa"
      ]
    },
    {
      "cell_type": "markdown",
      "id": "9860f4ff",
      "metadata": {
        "id": "9860f4ff"
      },
      "source": [
        "Es un metodo utilizado para la generacion de numeros aleatorios, de cualquier distribucion de probabilidad continua, cuando se conoce la inversa de su funcion de distribucion acumulada.\n",
        "\n",
        "Para este metodo\n",
        "\n",
        "1. Se genera un numero aleatorio u apartir de la distribucion uniforme en el intervalo (0,1)\n",
        "\n",
        "2. Se halla la inversa de la funcion de distribucion F\n",
        "\n",
        "3. Se calcula X, dandole a la inversa de F el valor u"
      ]
    },
    {
      "cell_type": "markdown",
      "id": "93465710",
      "metadata": {
        "id": "93465710"
      },
      "source": [
        "### 2. Metodo de composicion"
      ]
    },
    {
      "cell_type": "markdown",
      "id": "727d56cc",
      "metadata": {
        "id": "727d56cc"
      },
      "source": [
        "### 3. Metodo de rechazo"
      ]
    },
    {
      "cell_type": "markdown",
      "metadata": {
        "id": "_TymhucfEjBA"
      },
      "source": [
        "### Método de Rechazo\n",
        "\n",
        "Es un método utilizado para la generación de números aleatorios con una distribución de probabilidad continua, especialmente cuando no se conoce o no se puede invertir fácilmente la función de distribución acumulada.\n",
        "\n",
        "**Pasos del método:**\n",
        "\n",
        "1. Elegir una función de densidad auxiliar, denotada como \\( g(x) \\), de la cual sea fácil generar números aleatorios.\n",
        "\n",
        "2. Determinar una constante \\( c \\) tal que:\n",
        "\n",
        "   $$\n",
        "   f(x) \\leq c \\cdot g(x) \\quad \\text{para todo } x,\n",
        "   $$\n",
        "\n",
        "   donde \\( f(x) \\) es la densidad objetivo.\n",
        "\n",
        "3. Repetir el siguiente procedimiento:\n",
        "\n",
        "   - Generar un valor \\( X \\) a partir de la distribución \\( g(x) \\).\n",
        "   - Generar un número aleatorio \\( u \\) de una distribución uniforme en (0,1).\n",
        "   - Calcular el cociente:\n",
        "\n",
        "     $$\n",
        "     \\frac{f(X)}{c \\cdot g(X)}\n",
        "     $$\n",
        "\n",
        "   - Si se cumple:\n",
        "\n",
        "     $$\n",
        "     u \\leq \\frac{f(X)}{c \\cdot g(X)},\n",
        "     $$\n",
        "\n",
        "     entonces se acepta \\( X \\) como muestra.\n",
        "\n",
        "   - En caso contrario, se rechaza \\( X \\) y se repite el proceso.\n",
        "\n",
        "Este método se basa en aceptar muestras con una probabilidad proporcional a la razón entre la densidad deseada \\( f(x) \\) y la densidad auxiliar escalada \\( c\\ * g(x) \\).\n"
      ],
      "id": "_TymhucfEjBA"
    },
    {
      "cell_type": "markdown",
      "id": "2420f09e",
      "metadata": {
        "id": "2420f09e"
      },
      "source": [
        "## Desarrolar algoritmos correspondientes"
      ]
    },
    {
      "cell_type": "markdown",
      "id": "2ae04d1a",
      "metadata": {
        "id": "2ae04d1a"
      },
      "source": [
        "### 1. Desarrollar los algoritmos correspondientes al:\n"
      ]
    },
    {
      "cell_type": "markdown",
      "id": "8db22ba3",
      "metadata": {
        "id": "8db22ba3"
      },
      "source": [
        "Para las siguientes graficas realizar dos metodos de generacion de variables aleatorias.\n",
        "\n",
        "![image.png](attachment:image.png)"
      ]
    },
    {
      "cell_type": "markdown",
      "id": "56e55ca5",
      "metadata": {
        "id": "56e55ca5"
      },
      "source": [
        "#### a) método de la transformada inversa"
      ]
    },
    {
      "cell_type": "markdown",
      "id": "36180da3",
      "metadata": {
        "id": "36180da3"
      },
      "source": [
        "##### primera grafica\n",
        "\n",
        "Para la primera grafica tenemos una distribucion triangular, ya vimos como es su funcion de distribucion acumulada, de forma que necesitamos la inversa de esta funcion lo que corresponde a:\n",
        "\n",
        "$$\n",
        "F^{-1}(u) =\n",
        "\\begin{cases}\n",
        "a + \\sqrt{u (b - a)(c - a)} & \\text{si } u < \\frac{c - a}{b - a} \\\\\n",
        "b - \\sqrt{(1 - u)(b - a)(b - c)} & \\text{si } u \\geq \\frac{c - a}{b - a}\n",
        "\\end{cases}\n",
        "$$\n",
        "\n",
        "ahora solo tenemos que implementar esta misma funcion en python realmente solo necesitamos escribir las dos formulas y un condicional, esta formula es general de forma que esta funcion de python va a recibir como parametros tres variables, correspondientes a las incognitas de nuestra ecuacion.\n"
      ]
    },
    {
      "cell_type": "code",
      "execution_count": null,
      "id": "23610b21",
      "metadata": {
        "id": "23610b21"
      },
      "outputs": [],
      "source": [
        "import numpy as np\n",
        "from numba import jit\n",
        "\n",
        "@jit(nopython=True)\n",
        "def inverse_cdf_triangular(a, b, c):\n",
        "    u = np.random.uniform(0, 1)\n",
        "    Fc = (c - a) / (b - a)\n",
        "    if u < Fc:\n",
        "        return a + np.sqrt(u * (b - a) * (c - a))\n",
        "    else:\n",
        "        return b - np.sqrt((1 - u) * (b - a) * (b - c))"
      ]
    },
    {
      "cell_type": "markdown",
      "id": "119f78c0",
      "metadata": {
        "id": "119f78c0"
      },
      "source": [
        "Ahora vamos a definir nuestros puntos en variables, que recordemos solo utilizamos nuestra coordenada X"
      ]
    },
    {
      "cell_type": "code",
      "execution_count": null,
      "id": "52f50fdf",
      "metadata": {
        "id": "52f50fdf"
      },
      "outputs": [],
      "source": [
        "a = 8 # inicio del triangulo\n",
        "b = 10 # fin del triangulo\n",
        "c = 9 # pico del triangulo"
      ]
    },
    {
      "cell_type": "markdown",
      "id": "ac63b52c",
      "metadata": {
        "id": "ac63b52c"
      },
      "source": [
        "Ahora definimos nuestra funcion de simulacion que simplemente va a correr n veces nuestro generados de numeros aleatorios."
      ]
    },
    {
      "cell_type": "code",
      "execution_count": null,
      "id": "3e7fc655",
      "metadata": {
        "id": "3e7fc655"
      },
      "outputs": [],
      "source": [
        "def simulation(n, funcion):\n",
        "    result = np.empty(n, dtype=np.float64)\n",
        "    for i in range(n):\n",
        "        result[i] = funcion()\n",
        "    return result"
      ]
    },
    {
      "cell_type": "markdown",
      "id": "a2fbc6df",
      "metadata": {
        "id": "a2fbc6df"
      },
      "source": [
        "Ahora vamos a ejecutar nuestra simulacion, vamos a ver los primeros 10 resultados y despues graficaremos nuestra distribucion."
      ]
    },
    {
      "cell_type": "code",
      "execution_count": null,
      "id": "abed9fcf",
      "metadata": {
        "id": "abed9fcf",
        "outputId": "7b712924-3d3a-49c8-ca33-a51053cb86c8"
      },
      "outputs": [
        {
          "name": "stdout",
          "output_type": "stream",
          "text": [
            "Simulación de 100,000,000 muestras de la distribución triangular:\n",
            "[9.32993664 9.03157125 8.23736962 9.4217733  9.11089219 8.44722576\n",
            " 9.51666339 9.14214518 8.33786169 9.11517856]\n"
          ]
        }
      ],
      "source": [
        "result = simulation(100000000, lambda: inverse_cdf_triangular(a, b, c))\n",
        "print(\"Simulación de 100,000,000 muestras de la distribución triangular:\")\n",
        "print(result[:10])"
      ]
    },
    {
      "cell_type": "code",
      "execution_count": null,
      "id": "280aece1",
      "metadata": {
        "id": "280aece1"
      },
      "outputs": [],
      "source": [
        "import matplotlib.pyplot as plt\n",
        "\n",
        "def makeGraph(result):\n",
        "    plt.hist(result, bins=1000, density=True)\n",
        "    plt.title(\"Distribución\")\n",
        "    plt.xlabel(\"x\")\n",
        "    plt.ylabel(\"Densidad\")\n",
        "\n",
        "    plt.show()"
      ]
    },
    {
      "cell_type": "code",
      "execution_count": null,
      "id": "741391d2",
      "metadata": {
        "id": "741391d2",
        "outputId": "b4cf69da-8d2f-44b0-9b1e-73e2736e1057"
      },
      "outputs": [
        {
          "data": {
            "image/png": "[encoded data removed]",
            "text/plain": [
              "<Figure size 640x480 with 1 Axes>"
            ]
          },
          "metadata": {},
          "output_type": "display_data"
        }
      ],
      "source": [
        "makeGraph(result)"
      ]
    },
    {
      "cell_type": "markdown",
      "id": "051cda75",
      "metadata": {
        "id": "051cda75"
      },
      "source": [
        "Como podemos observar hemos generado numeros aleatorios para la distribucin deseada."
      ]
    },
    {
      "cell_type": "markdown",
      "id": "fa8f99dd",
      "metadata": {
        "id": "fa8f99dd"
      },
      "source": [
        "##### segunda grafica"
      ]
    },
    {
      "cell_type": "markdown",
      "id": "b343c061",
      "metadata": {
        "id": "b343c061"
      },
      "source": [
        "Nuestra segunda grafica es una distribucion trapezoidal por tanto realizaremos un procedimiento similar utilizando su funcion de distribucion acumulada."
      ]
    },
    {
      "cell_type": "code",
      "execution_count": null,
      "id": "a6a2096a",
      "metadata": {
        "id": "a6a2096a"
      },
      "outputs": [],
      "source": [
        "@jit(nopython=True)\n",
        "def inverse_cdf_trapezoidal( a, b, c, d):\n",
        "    u = np.random.random()\n",
        "\n",
        "    h = 2 / (d + c - a - b)\n",
        "\n",
        "    A1 = (b - a) * h / 2\n",
        "    A2 = (c - b) * h\n",
        "    A3 = (d - c) * h / 2\n",
        "\n",
        "    if u < A1:\n",
        "        return a + np.sqrt((2 * u * (b - a)) / h)\n",
        "    elif u < A1 + A2:\n",
        "        return b + (u - A1) / h\n",
        "    elif u <= 1.0:\n",
        "        z = u - A1 - A2\n",
        "        return d - np.sqrt((2 * (A3 - z) * (d - c)) / h)\n",
        "    else:\n",
        "        raise ValueError(\"u debe estar en el intervalo [0, 1]\")"
      ]
    },
    {
      "cell_type": "markdown",
      "id": "2a19d39a",
      "metadata": {
        "id": "2a19d39a"
      },
      "source": [
        "En el anterior codigo implementamos en una funcion de python la inversa de la distribucion acumulada de esta distribucion que corresponde a:\n",
        "\n",
        "## Inversa de la Función de Distribución Acumulada (CDF) – Distribución Trapezoidal\n",
        "\n",
        "La distribución trapezoidal está definida por cuatro parámetros: \\( a < b \\leq c < d \\). Su densidad tiene forma trapezoidal, con tramos lineales ascendentes y descendentes, y un tramo constante entre \\( b \\) y \\( c \\).\n",
        "\n",
        "La inversa de su función de distribución acumulada (CDF) se expresa por tramos, según el valor de una variable uniforme \\( u \\sim \\mathcal{U}(0,1) \\), de la siguiente manera:\n",
        "\n",
        "1. Altura del trapecio:\n",
        "\n",
        "$$\n",
        "h = \\frac{2}{(d + c - a - b)}\n",
        "$$\n",
        "\n",
        "2. Áreas acumuladas de los tres segmentos de la función:\n",
        "\n",
        "- Área bajo la rampa creciente (de \\( a \\) a \\( b \\)):\n",
        "\n",
        "$$\n",
        "A_1 = \\frac{(b - a) \\cdot h}{2}\n",
        "$$\n",
        "\n",
        "- Área bajo la parte constante (de \\( b \\) a \\( c \\)):\n",
        "\n",
        "$$\n",
        "A_2 = (c - b) \\cdot h\n",
        "$$\n",
        "\n",
        "- Área bajo la rampa decreciente (de \\( c \\) a \\( d \\)):\n",
        "\n",
        "$$\n",
        "A_3 = \\frac{(d - c) \\cdot h}{2}\n",
        "$$\n",
        "\n",
        "3. Inversa de la CDF por tramos:\n",
        "\n",
        "- Si \\( u < A_1 \\):\n",
        "\n",
        "$$\n",
        "x = a + \\sqrt{\\frac{2u(b - a)}{h}}\n",
        "$$\n",
        "\n",
        "- Si \\( A_1 \\leq u < A_1 + A_2 \\):\n",
        "\n",
        "$$\n",
        "x = b + \\frac{u - A_1}{h}\n",
        "$$\n",
        "\n",
        "- Si \\( A_1 + A_2 \\leq u \\leq 1 \\):\n",
        "\n",
        "$$\n",
        "x = d - \\sqrt{\\frac{2(d - c)(A_3 - (u - A_1 - A_2))}{h}}\n",
        "$$\n",
        "\n",
        "Esta función permite generar muestras aleatorias que siguen una distribución trapezoidal mediante el método de la transformada inversa.\n"
      ]
    },
    {
      "cell_type": "code",
      "execution_count": null,
      "id": "c5e39690",
      "metadata": {
        "id": "c5e39690",
        "outputId": "031879a1-abe7-456d-a22d-acea1f01c56d"
      },
      "outputs": [
        {
          "data": {
            "image/png": "[encoded data removed]",
            "text/plain": [
              "<Figure size 640x480 with 1 Axes>"
            ]
          },
          "metadata": {},
          "output_type": "display_data"
        }
      ],
      "source": [
        "d = 7\n",
        "result = simulation(100000000, lambda: inverse_cdf_trapezoidal(d, a, c, b))\n",
        "makeGraph(result)"
      ]
    },
    {
      "cell_type": "markdown",
      "id": "883e28d2",
      "metadata": {
        "id": "883e28d2"
      },
      "source": [
        "Ahora simplemente corremos multiples veces nuestra generacion de variables aleatorias y creamos la grafica de la misma, en donde obtenemos la forma esperada, la imagen como tal no establece los puntos sin embargo usamos los que ya teniamos mas uno que nos faltaba"
      ]
    },
    {
      "cell_type": "markdown",
      "id": "4bd41417",
      "metadata": {
        "id": "4bd41417"
      },
      "source": [
        "#### b) método de composición"
      ]
    },
    {
      "cell_type": "markdown",
      "metadata": {
        "id": "-ez9ZPxsFOWn"
      },
      "source": [
        "### 2. Generar las distribuciones por el método de rechazo\n"
      ],
      "id": "-ez9ZPxsFOWn"
    },
    {
      "cell_type": "markdown",
      "metadata": {
        "id": "O-qV8RzFGeoT"
      },
      "source": [
        "##### primera grafica\n",
        "\n",
        "Para la primera grafica tenemos una distribucion continua definida constante por tramos:\n",
        "\n",
        "$$\n",
        "f(x) =\n",
        "\\begin{cases}\n",
        "0.75 & \\text{si } 0 \\leq x < 1 \\\\\\\\\n",
        "0.25 & \\text{si } 1 \\leq x \\leq 2 \\\\\\\\\n",
        "0 & \\text{en otro caso}\n",
        "\\end{cases}\n",
        "$$\n",
        "\n",
        "Esta función puede utilizarse como la densidad objetivo en un método de rechazo.\n"
      ],
      "id": "O-qV8RzFGeoT"
    },
    {
      "cell_type": "code",
      "execution_count": 2,
      "metadata": {
        "id": "HTuEHU63GeoT"
      },
      "outputs": [],
      "source": [
        "import numpy as np\n",
        "from numba import jit\n",
        "\n",
        "@jit(nopython=True)\n",
        "def target_pdf_c(x) -> float:\n",
        "        if 0 <= x < 1:\n",
        "            return 0.75\n",
        "        elif 1 <= x <= 2:\n",
        "            return 0.25\n",
        "        else:\n",
        "            return 0.0"
      ],
      "id": "HTuEHU63GeoT"
    },
    {
      "cell_type": "markdown",
      "metadata": {
        "id": "IPUo_N3SGeoU"
      },
      "source": [
        "Ahora vamos a definir nuestra función propuesta para aplicar el método de rechazo y la constante de cota correspondiente:"
      ],
      "id": "IPUo_N3SGeoU"
    },
    {
      "cell_type": "code",
      "execution_count": 3,
      "metadata": {
        "id": "3tN_WsXLGeoU"
      },
      "outputs": [],
      "source": [
        "@jit(nopython=True)\n",
        "def proposal_Sampler_c() -> float:\n",
        "        return np.random.uniform(0, 2)\n",
        "\n",
        "M_c = 1.5"
      ],
      "id": "3tN_WsXLGeoU"
    },
    {
      "cell_type": "markdown",
      "source": [
        "Luego hay que definir el generador de variables por el método de rechazo, ya hemos visto la condición:"
      ],
      "metadata": {
        "id": "vVhVaci4J42d"
      },
      "id": "vVhVaci4J42d"
    },
    {
      "cell_type": "code",
      "source": [
        "@jit(nopython=True)\n",
        "def rejection_Method(target_pdf, proposal_sampler, M) -> float:\n",
        "    while True:\n",
        "        x = proposal_sampler()\n",
        "        u = np.random.random()\n",
        "        if u < target_pdf(x) / M:\n",
        "            return x"
      ],
      "metadata": {
        "id": "W5MooMLVKAYs"
      },
      "id": "W5MooMLVKAYs",
      "execution_count": 4,
      "outputs": []
    },
    {
      "cell_type": "markdown",
      "metadata": {
        "id": "GZ8ptcdCGeoU"
      },
      "source": [
        "Ahora definimos la funcion de muestras que va a ejecutar n veces el generador."
      ],
      "id": "GZ8ptcdCGeoU"
    },
    {
      "cell_type": "code",
      "execution_count": 5,
      "metadata": {
        "id": "Pe0JiN99GeoU"
      },
      "outputs": [],
      "source": [
        "def sampling(n_Samples, func) -> np.ndarray:\n",
        "    samples = np.empty(n_Samples)\n",
        "    for i in range(n_Samples):\n",
        "        samples[i] = func()\n",
        "    return samples"
      ],
      "id": "Pe0JiN99GeoU"
    },
    {
      "cell_type": "markdown",
      "metadata": {
        "id": "Ut5pR_q5GeoU"
      },
      "source": [
        "Ya se procede a ejecutar la generación de muestra, se muestran los primeros resultados y posteriormente una gráfica."
      ],
      "id": "Ut5pR_q5GeoU"
    },
    {
      "cell_type": "code",
      "execution_count": 6,
      "metadata": {
        "outputId": "394631c8-1489-4c7e-d972-02b28c5e7937",
        "colab": {
          "base_uri": "https://localhost:8080/"
        },
        "id": "vYNgcuoDGeoU"
      },
      "outputs": [
        {
          "output_type": "stream",
          "name": "stdout",
          "text": [
            "[0.51799156 1.10349468 0.13104289 1.24960037 0.44199306 1.53256979\n",
            " 0.68662064 0.12634019 1.84672691 0.89352797]\n"
          ]
        }
      ],
      "source": [
        "n_Samples = 1000000\n",
        "samples_c = sampling(n_Samples, lambda: rejection_Method(target_pdf_c, proposal_Sampler_c, M_c))\n",
        "print(samples_c[:10])"
      ],
      "id": "vYNgcuoDGeoU"
    },
    {
      "cell_type": "code",
      "execution_count": 8,
      "metadata": {
        "id": "6ryTyi6JGeoV"
      },
      "outputs": [],
      "source": [
        "import matplotlib.pyplot as plt\n",
        "\n",
        "def rej_Make_Graph(samples,title) -> None:\n",
        "    plt.figure(figsize=(10, 5))\n",
        "    plt.hist(samples, bins=1000, density=True, alpha=0.7, color='skyblue')\n",
        "    plt.title(title)\n",
        "    plt.xlabel('x')\n",
        "    plt.ylabel('Densidad')\n",
        "    plt.grid(True)\n",
        "    plt.show()"
      ],
      "id": "6ryTyi6JGeoV"
    },
    {
      "cell_type": "code",
      "execution_count": 9,
      "metadata": {
        "outputId": "e3a91c82-fe5a-449d-c0df-b933a7cddcc5",
        "colab": {
          "base_uri": "https://localhost:8080/",
          "height": 487
        },
        "id": "OvhaOidpGeoV"
      },
      "outputs": [
        {
          "output_type": "display_data",
          "data": {
            "text/plain": [
              "<Figure size 1000x500 with 1 Axes>"
            ],
            "image/png": "[encoded data removed]"
          },
          "metadata": {}
        }
      ],
      "source": [
        "rej_Make_Graph(samples_c, \"Distribución C: Muestras Simuladas\")"
      ],
      "id": "OvhaOidpGeoV"
    },
    {
      "cell_type": "markdown",
      "metadata": {
        "id": "S5EZknsnGeoV"
      },
      "source": [
        "Como podemos observar hemos generado numeros aleatorios para la distribucin deseada."
      ],
      "id": "S5EZknsnGeoV"
    },
    {
      "cell_type": "markdown",
      "metadata": {
        "id": "IlZZNcvZGeoV"
      },
      "source": [
        "##### segunda grafica"
      ],
      "id": "IlZZNcvZGeoV"
    },
    {
      "cell_type": "markdown",
      "metadata": {
        "id": "pXhCvvB7GeoW"
      },
      "source": [
        "La segunda grafica es una distribucion que puede considerarse trapezoidal. Sin embargo, el procedimiento no cambia mucho. La función es la siguiente:\n",
        "\n",
        "- En el intervalo \\([4, 5)\\): la densidad decrece linealmente desde 0.75 hasta 0.25.\n",
        "- En el intervalo \\([5, 6]\\): la densidad crece linealmente desde 0.25 hasta 0.75.\n",
        "- Fuera del intervalo \\([4, 6]\\), la densidad es cero.\n",
        "\n",
        "Su definición por tramos es la siguiente:\n",
        "\n",
        "$$\n",
        "f(x) =\n",
        "\\begin{cases}\n",
        "0.75 - 0.5(x - 4) & \\text{si } 4 \\leq x < 5 \\\\\n",
        "0.25 + 0.5(x - 5) & \\text{si } 5 \\leq x \\leq 6 \\\\\n",
        "0 & \\text{en otro caso}\n",
        "\\end{cases}\n",
        "$$\n",
        "\n",
        "Esta función describe una distribución continua no uniforme con forma trapezoidal simétrica, y puede utilizarse como densidad objetivo.\n"
      ],
      "id": "pXhCvvB7GeoW"
    },
    {
      "cell_type": "code",
      "execution_count": 10,
      "metadata": {
        "id": "nDmcAJcfGeoW"
      },
      "outputs": [],
      "source": [
        "@jit(nopython=True)\n",
        "def target_pdf_d(x) -> float:\n",
        "    if 4 <= x < 5:\n",
        "        return 0.75 - 0.5 * (x - 4)\n",
        "    elif 5 <= x <= 6:\n",
        "        return 0.25 + 0.5 * (x - 5)\n",
        "    else:\n",
        "        return 0.0"
      ],
      "id": "nDmcAJcfGeoW"
    },
    {
      "cell_type": "markdown",
      "source": [
        "Se define una función propuesta en el intervalo correcto, nótese que usar uniformes es lo más conveniente por simplicidad."
      ],
      "metadata": {
        "id": "6P1DEZTPLr-h"
      },
      "id": "6P1DEZTPLr-h"
    },
    {
      "cell_type": "code",
      "source": [
        "@jit(nopython=True)\n",
        "def proposal_Sampler_d() -> float:\n",
        "    return np.random.uniform(4, 6)\n",
        "\n",
        "M_d = 1.5"
      ],
      "metadata": {
        "id": "wPIdx7LjLzOu"
      },
      "id": "wPIdx7LjLzOu",
      "execution_count": 11,
      "outputs": []
    },
    {
      "cell_type": "markdown",
      "source": [
        "Finalmente, se hace la generación de muestras y la gráfica que coincide con la forma solicitada."
      ],
      "metadata": {
        "id": "7Rig0wJqL33V"
      },
      "id": "7Rig0wJqL33V"
    },
    {
      "cell_type": "code",
      "source": [
        "samples_d = sampling(n_Samples, lambda: rejection_Method(target_pdf_d, proposal_Sampler_d, M_d))\n",
        "print(samples_d[:10])"
      ],
      "metadata": {
        "colab": {
          "base_uri": "https://localhost:8080/"
        },
        "id": "9q1yasn9MAso",
        "outputId": "07228c3a-01b2-4d54-ccb3-4466b4e0ef89"
      },
      "id": "9q1yasn9MAso",
      "execution_count": 12,
      "outputs": [
        {
          "output_type": "stream",
          "name": "stdout",
          "text": [
            "[5.10187048 4.00448777 5.69132907 4.48106585 5.37485537 4.20136877\n",
            " 5.44897796 5.94699297 4.08956633 5.33902491]\n"
          ]
        }
      ]
    },
    {
      "cell_type": "code",
      "source": [
        "rej_Make_Graph(samples_d, \"Distribución D: Muestras Simuladas\")"
      ],
      "metadata": {
        "colab": {
          "base_uri": "https://localhost:8080/",
          "height": 487
        },
        "id": "paMIAqpBMHWT",
        "outputId": "b28cd5e0-5589-41b3-f165-ccf4b0754943"
      },
      "id": "paMIAqpBMHWT",
      "execution_count": 13,
      "outputs": [
        {
          "output_type": "display_data",
          "data": {
            "text/plain": [
              "<Figure size 1000x500 with 1 Axes>"
            ],
            "image/png": "[encoded data removed]"
          },
          "metadata": {}
        }
      ]
    },
    {
      "cell_type": "markdown",
      "id": "f6def06c",
      "metadata": {
        "id": "f6def06c"
      },
      "source": [
        "### 5. Desarrollar generador de variable aleatoria"
      ]
    },
    {
      "cell_type": "markdown",
      "id": "5542f7ca",
      "metadata": {
        "id": "5542f7ca"
      },
      "source": [
        "A continuación, debe desarrollar el generador para variable aleatoria, con la siguiente PDF:"
      ]
    },
    {
      "cell_type": "markdown",
      "id": "b4b5a0d9",
      "metadata": {
        "id": "b4b5a0d9"
      },
      "source": [
        "$$\n",
        "f(x) =\n",
        "\\begin{cases}\n",
        "  \\frac{1}{5} & \\text{si } 0 \\le x < 3 \\\\\n",
        "  \\frac{1}{8} & \\text{si } 3 \\le x \\le 9 \\\\\n",
        "  0         & \\text{en otro caso}\n",
        "\\end{cases}\n",
        "$$"
      ]
    },
    {
      "cell_type": "markdown",
      "id": "3d835935",
      "metadata": {
        "id": "3d835935"
      },
      "source": [
        "Para construir un generador de variables aleatorias a partir de una función, esta función debe ser una función de probabilidad válida.\n",
        "Esto signfica, que se debe cumplir, que la función de distribución acumulada $F(x) = 1$ mencionada al inicio del marco. Esto no ocurre en la siguiente función, como se puede demostrar de manera sencilla:"
      ]
    },
    {
      "cell_type": "markdown",
      "id": "faa55e93",
      "metadata": {
        "id": "faa55e93"
      },
      "source": [
        "$$\n",
        "\\int_{a}^{b} f(x) \\, dx\n",
        "$$\n",
        "$$\n",
        "\\int_{0}^{9} f(x) \\, dx = \\int_{0}^{3} \\frac{1}{5} \\, dx + \\int_{3}^{9} \\frac{1}{8} \\, dx\n",
        "$$\n",
        "$$\n",
        "\\int_{0}^{3} \\frac{1}{5} \\, dx = \\left[ \\frac{1}{5}x \\right]_{0}^{3} = \\frac{3}{5} - 0 = \\frac{3}{5}\n",
        "$$\n",
        "\n",
        "$$\n",
        "\\int_{3}^{9} \\frac{1}{8} \\, dx = \\left[ \\frac{1}{8}x \\right]_{3}^{9} = \\frac{9}{8} - \\frac{3}{8} = \\frac{6}{8} = \\frac{3}{4}\n",
        "$$\n",
        "$$\n",
        "\\int_{0}^{5} f(x) \\, dx = \\frac{3}{5} + \\frac{3}{4} = \\frac{12 + 15}{20} = \\frac{27}{20} \\neq 1\n",
        "$$"
      ]
    },
    {
      "cell_type": "markdown",
      "id": "090f7f90",
      "metadata": {
        "id": "090f7f90"
      },
      "source": [
        "Por lo tanto, la función anterior como tal, no es una función de probabilidad válida. Sin embargo, como ejercicio intelectual, podemos determinar cómo se construiría un generador de variables aleatoias, con la siguiente función, con una estructura similar a la original:"
      ]
    },
    {
      "cell_type": "markdown",
      "id": "16c13ac4",
      "metadata": {
        "id": "16c13ac4"
      },
      "source": [
        "$$\n",
        "f(x) =\n",
        "\\begin{cases}\n",
        "  \\frac{1}{5} & \\text{si } 0 \\le x < 3 \\\\\n",
        "  \\frac{1}{15} & \\text{si } 3 \\le x \\le 9 \\\\\n",
        "  0         & \\text{en otro caso}\n",
        "\\end{cases}\n",
        "$$"
      ]
    },
    {
      "cell_type": "markdown",
      "id": "2f46329b",
      "metadata": {
        "id": "2f46329b"
      },
      "source": [
        "Que al realizar la integral correspondiente obtenemos:"
      ]
    },
    {
      "cell_type": "markdown",
      "id": "1a6d57e3",
      "metadata": {
        "id": "1a6d57e3"
      },
      "source": [
        "$$\n",
        "\\int_{a}^{b} f(x) \\, dx\n",
        "$$\n",
        "$$\n",
        "\\int_{0}^{9} f(x) \\, dx = \\int_{0}^{3} \\frac{1}{5} \\, dx + \\int_{3}^{9} \\frac{1}{15} \\, dx\n",
        "$$\n",
        "$$\n",
        "\\int_{0}^{3} \\frac{1}{5} \\, dx = \\left[ \\frac{1}{5}x \\right]_{0}^{3} = \\frac{3}{5} - 0 = \\frac{3}{5}\n",
        "$$\n",
        "\n",
        "$$\n",
        "\\int_{3}^{9} \\frac{1}{15} \\, dx = \\left[ \\frac{1}{8}x \\right]_{3}^{9} = \\frac{9}{15} - \\frac{3}{15} = \\frac{6}{15} = \\frac{2}{5}\n",
        "$$\n",
        "$$\n",
        "\\int_{0}^{5} f(x) \\, dx = \\frac{3}{5} + \\frac{2}{5} = \\frac{5}{5} = 1\n",
        "$$"
      ]
    },
    {
      "cell_type": "markdown",
      "id": "305cc373",
      "metadata": {
        "id": "305cc373"
      },
      "source": [
        "Como se expuso en los puntos anteriores, para obtener el generador por el método de la inversa, debemos obtener la expresión correspondiente a $F^{-1}(x)$, como mostramos a continuación:"
      ]
    },
    {
      "cell_type": "markdown",
      "id": "5e64829b",
      "metadata": {
        "id": "5e64829b"
      },
      "source": [
        "$$\n",
        "\\text{Para}~ 0<x\\leq 3 \\xrightarrow{} F^{-1}(x) \\implies \\frac{x}{5} = u \\implies x = 5u\n",
        "$$\n",
        "$$\n",
        "\\text{Para}~ 3<x\\leq 9 \\xrightarrow{} F^{-1}(x) \\implies \\frac{3}{5} + \\frac{x-3}{15} = u \\implies 15u-6\n",
        "$$"
      ]
    },
    {
      "cell_type": "markdown",
      "id": "445897ca",
      "metadata": {
        "id": "445897ca"
      },
      "source": [
        "Ahora que definimos la función inversa, vamos a diseñar su función, y ejecutar su simulación respectiva en Python:"
      ]
    },
    {
      "cell_type": "code",
      "execution_count": null,
      "id": "d77a3826",
      "metadata": {
        "id": "d77a3826"
      },
      "outputs": [],
      "source": [
        "from numba import jit\n",
        "import random\n",
        "\n",
        "@jit(nopython=True)\n",
        "def random_variable_5():\n",
        "    u = random.random()  # Uniform [0.0, 1.0)\n",
        "    if u <= 3/5:\n",
        "        return 5 * u\n",
        "    else:\n",
        "        return 15 * u - 6"
      ]
    },
    {
      "cell_type": "markdown",
      "id": "de234a81",
      "metadata": {
        "id": "de234a81"
      },
      "source": [
        "Aplicamos la misma función de simulación definida en el punto 1:"
      ]
    },
    {
      "cell_type": "code",
      "execution_count": null,
      "id": "8a89cec3",
      "metadata": {
        "id": "8a89cec3"
      },
      "outputs": [],
      "source": [
        "def simulation(n, funcion):\n",
        "    result = np.empty(n, dtype=np.float64)\n",
        "    for i in range(n):\n",
        "        result[i] = funcion()\n",
        "    return result\n",
        "\n",
        "@jit(nopython=True)\n",
        "def makeGraph(result):\n",
        "    plt.hist(result, bins=1000, density=True)\n",
        "    plt.title(\"Distribución\")\n",
        "    plt.xlabel(\"x\")\n",
        "    plt.ylabel(\"Densidad\")\n",
        "\n",
        "    plt.show()\n",
        "\n",
        "result = simulation(1000, random_variable_5)\n",
        "print(\"Simulación de 1000 muestras de la distribución triangular:\")\n",
        "print(result[:10])\n",
        "makeGraph(result)"
      ]
    },
    {
      "cell_type": "markdown",
      "id": "e46c48d9",
      "metadata": {
        "id": "e46c48d9"
      },
      "source": [
        "# Problemas asignados a cada uno del grupo\n",
        "\n",
        "---"
      ]
    },
    {
      "cell_type": "markdown",
      "id": "f119887b",
      "metadata": {
        "id": "f119887b"
      },
      "source": [
        "### Problema numero 9\n",
        "Barcos llegan a un puerto a la tasa de uno cada  1 ±  1/2    horas. Hay 6 muelles para atenderlos. Ellos también requieren  los servicios de una grúa para descargar y hay cinco de ellas. Después de descargar, 10% de los barcos permanecen para recarga de combustible antes de partir; los otros salen inmediatamente. Los barcos no requieren las grúas para la recarga. Simular las colas para los muelles  y las grúas asumiendo que toma  7(1/2)  ±  3  horas para descargar y 1  ± 1/2  horas para la recarga. Simular para que 100 barcos abandonen el puerto."
      ]
    },
    {
      "cell_type": "markdown",
      "id": "8890c2b2",
      "metadata": {
        "id": "8890c2b2"
      },
      "source": [
        "#### Definicion de valores simulacion"
      ]
    },
    {
      "cell_type": "markdown",
      "id": "4250beef",
      "metadata": {
        "id": "4250beef"
      },
      "source": [
        "##### Variables estado sistema\n",
        "Estas son variables que describen al sistema en cierto instante\n",
        "\n",
        "- clock:\n",
        "describe el tiempo actual de la simulacion\n",
        "\n",
        "- lista eventos:\n",
        "contiene los proximos eventos a ocurri\n",
        "    - craneExitHeap:\n",
        "    Representa primero nuestra ocupacion de gruas, ademas de tambien los eventos de salida de la misma\n",
        "    - portExitHeap:\n",
        "    Representa los eventos de salida del puerto agendados\n",
        "\n",
        "- portHeap:\n",
        "Representa los barcos que estan en nuestro puerto con sus tiempos de llegada\n",
        "\n",
        "- portQueue:\n",
        "Representa la cola para entrar a nuestro puerto\n",
        "\n",
        "- craneQueue:\n",
        "Representa la cola de espera para una grua"
      ]
    },
    {
      "cell_type": "markdown",
      "id": "c7aed151",
      "metadata": {
        "id": "c7aed151"
      },
      "source": [
        "##### Entidades y atributos"
      ]
    },
    {
      "cell_type": "markdown",
      "id": "977ff623",
      "metadata": {
        "id": "977ff623"
      },
      "source": [
        "La entidad que tendría nuestro programa sería el barco que tendría estos atributos, aunque dado la simulación por eventos estos, no son implementados de forma directa en la simulación, sino que se ven a través de los eventos.\n",
        "\n",
        "| Atributo              | Descripción                            |\n",
        "| --------------------- | -------------------------------------- |\n",
        "| `id`                  | identificador único                    |\n",
        "| `tLlegada`            | hora de llegada al puerto              |\n",
        "| `tInicioDescarga`     | hora en que comienza en muelle         |\n",
        "| `tFinDescarga`        | hora en que sale del muelle            |\n",
        "| `requiereReabastecer` | booleano (10% con recarga)             |\n",
        "| `tInicioReabastecer`  | hora en que inicia recarga (si aplica) |\n",
        "| `tFinReabastecer`     | hora en que termina recarga            |\n",
        "| `tSalida`             | hora en que finalmente abandona puerto |\n"
      ]
    },
    {
      "cell_type": "markdown",
      "id": "ac4abb78",
      "metadata": {
        "id": "ac4abb78"
      },
      "source": [
        "##### Eventos\n",
        "\n",
        "Además de los eventos de inicio y finalización de la simulación tenemos:\n",
        "\n",
        "\n",
        "- llegada puerto\n",
        "\n",
        "\n",
        "- salida grúa\n",
        "\n",
        "\n",
        "- salida puerto\n",
        "\n",
        "\n",
        "Tenemos estos eventos y podríamos que el subevento de llegada a grúa pero este ocurre dentro de los anteriores eventos, de forma que no es un evento que se programe para ocurrir en algún tiempo.\n",
        "\n",
        "\n",
        "Una explicación breve de estos eventos aunque se entenderá mejor en el diagrama de flujo, es:\n",
        "\n",
        "\n",
        "*LLegada puerto*: vemos si hay puertos disponibles, si no hay mandamos el barco a la fila de espera de puertos, si hay vemos si hay grúas, si no hay lo mandamos a la fila de espera de grúas, si hay programamos el evento de salida de la grúa.\n",
        "\n",
        "\n",
        "*Salida grúa*: Desocupamos la grúa, vemos si hay fila de espera en la grúa, si hay ocupamos de nuevo la grúa, y se programa el evento de salida de esta nueva llegada. Ahora con nuestra barco, vemos si va a recargar o no, y según esto determinamos el tiempo en que se programara el evento de salida del puerto.\n",
        "\n",
        "\n",
        "*Salida Puerto*: Desocupamos el puerto, revisamos si hay barcos en la fila de espera de puertos, si hay ocupamos el puerto, revisamos si hay grúas disponibles, si no hay lo mandamos a la fila de espera de grúas, si hay entonces ocupamos la grúa y programamos su evento de salida de la grúa.\n",
        "\n",
        "\n",
        "\n"
      ]
    },
    {
      "cell_type": "markdown",
      "id": "591b0223",
      "metadata": {
        "id": "591b0223"
      },
      "source": [
        "##### Contadores y Acumuladores\n",
        "\n",
        "- **sf.stat_Port_Delays**: lista de retrasos individuales en la cola de muelles (tiempos de espera en puerto)  \n",
        "- **sf.stat_Crane_Delays**: lista de retrasos individuales en la cola de grúas (tiempos de espera para recarga)  \n",
        "- **sf.stat_Load_Times**: lista de tiempos individuales de carga (reabastecimiento)  \n",
        "- **sf.stat_Unload_Times**: lista de tiempos individuales de descarga  \n",
        "- **sf.stat_Arrival_Times**: lista de tiempos de llegada de cada barco  \n",
        "- **sf.stat_Port_Occupancy_Durations**: lista de duraciones individuales de ocupación de un muelle por barco  \n",
        "- **sf.numDeparted**: contador del número de barcos que han abandonado el puerto  \n",
        "\n",
        "- **sf.time_last_event**: reloj de tiempo del último evento procesado  \n",
        "- **sf.area_num_in_port_queue**: acumulador del área bajo la curva de número en cola de muelles  \n",
        "- **sf.area_num_in_crane_queue**: acumulador del área bajo la curva de número en cola de grúas  \n",
        "- **sf.area_busy_ports**: acumulador del área bajo la curva de muelles ocupados  \n",
        "- **sf.area_busy_cranes**: acumulador del área bajo la curva de grúas ocupadas  \n",
        "\n"
      ]
    },
    {
      "cell_type": "markdown",
      "id": "f9678655",
      "metadata": {
        "id": "f9678655"
      },
      "source": [
        "##### Medidas de Desempeño\n",
        "\n",
        "A continuación, se presentan las principales métricas de desempeño obtenidas a partir de la simulación del sistema portuario:\n",
        "\n",
        "* **Retraso promedio en puerto (Port Delay):**\n",
        "  Tiempo promedio que un barco permanece en la cola esperando disponibilidad de muelle.\n",
        "\n",
        "* **Retraso promedio en grúa (Crane Delay):**\n",
        "  Tiempo promedio que un barco espera para ser atendido por una grúa.\n",
        "\n",
        "* **Tiempo promedio de carga (Load Time):**\n",
        "  Tiempo requerido, en promedio, para completar el proceso de recarga de un barco.\n",
        "\n",
        "* **Tiempo promedio de descarga (Unload Time):**\n",
        "  Tiempo necesario, en promedio, para descargar un barco.\n",
        "\n",
        "* **Barcos que salieron del sistema (Departed Ships):**\n",
        "  Número total de barcos que completaron el ciclo de atención portuaria y partieron.\n",
        "\n",
        "* **Reloj promedio de simulación (Average Simulation Clock):**\n",
        "  Tiempo promedio en el que finalizó la simulación de cada experimento.\n",
        "\n",
        "* **Tiempo promedio entre llegadas (Average Inter-Arrival Time):**\n",
        "  Intervalo promedio entre la llegada de un barco y el siguiente.\n",
        "\n",
        "* **Promedio temporal de barcos en cola de puerto (Time-Avg Ships in Port Queue):**\n",
        "  Promedio ponderado en el tiempo del número de barcos en espera por un muelle.\n",
        "\n",
        "* **Promedio temporal de barcos en cola de grúa (Time-Avg Ships in Crane Queue):**\n",
        "  Promedio ponderado en el tiempo del número de barcos esperando ser atendidos por una grúa.\n",
        "\n",
        "* **Utilización promedio de muelles (Port Utilization):**\n",
        "  Porcentaje del tiempo total en que los muelles estuvieron ocupados.\n",
        "\n",
        "* **Utilización promedio de grúas (Crane Utilization):**\n",
        "  Porcentaje del tiempo total en que las grúas estuvieron en uso."
      ]
    },
    {
      "cell_type": "markdown",
      "id": "a6922c2a",
      "metadata": {
        "id": "a6922c2a"
      },
      "source": [
        "#### Diagrama de flujo"
      ]
    },
    {
      "cell_type": "markdown",
      "id": "f9c333dc",
      "metadata": {
        "id": "f9c333dc"
      },
      "source": [
        "##### Diagrama programa general\n",
        "\n",
        "El siguiente diagrama describe en general como funciona la rutina principal del programa que invoca a los diferentes eventos a ser ejecutados, al otro lado tenemos en general, la secuencia que se espera que todo barco tenga.\n",
        "\n",
        "![Diagrama del programa general](diagramas/mains9.png)\n",
        "\n"
      ]
    },
    {
      "cell_type": "markdown",
      "id": "c26f73c9",
      "metadata": {
        "id": "c26f73c9"
      },
      "source": [
        "##### Diagramas de eventos\n",
        "\n",
        "A continuacion podremos ver los diagramas de flujo de los eventos que tiene nuestro programa\n",
        "\n",
        "![Diagrama de eventos](diagramas/events9.png)"
      ]
    },
    {
      "cell_type": "markdown",
      "id": "6d70d608",
      "metadata": {
        "id": "6d70d608"
      },
      "source": [
        "de igual forma la logica fue explicada previamente"
      ]
    },
    {
      "cell_type": "markdown",
      "id": "2ecda3bf",
      "metadata": {
        "id": "2ecda3bf"
      },
      "source": [
        "#### Resultados"
      ]
    },
    {
      "cell_type": "markdown",
      "id": "f9171c63",
      "metadata": {
        "id": "f9171c63"
      },
      "source": [
        "Ahora vamos a correr multiples simulaciones, y promediaremos los resultados de cada una de esta simulaciones, para poder realizar mas en menor tiempo, las simulaciones las realizamos en paralelo, con los varios nucleos de nuestro procesador, con lo cual podemos correr 1000000 simulaciones en un minuto y medio. Pero este nivel de iteracion nos da una mayor confianza."
      ]
    },
    {
      "cell_type": "code",
      "execution_count": null,
      "id": "25be62ae",
      "metadata": {
        "id": "25be62ae",
        "outputId": "40574fa1-5b16-439c-9230-f5ce8c156fce"
      },
      "outputs": [
        {
          "name": "stdout",
          "output_type": "stream",
          "text": [
            "Parallel simulation time for 1000000 runs: 83.46 seconds\n"
          ]
        },
        {
          "data": {
            "image/png": "[encoded data removed]",
            "text/plain": [
              "<Figure size 1400x800 with 1 Axes>"
            ]
          },
          "metadata": {},
          "output_type": "display_data"
        }
      ],
      "source": [
        "from source.simulations import simulation_9 as s9\n",
        "import matplotlib.pyplot as plt\n",
        "import time\n",
        "\n",
        "num_simulations = 1000000\n",
        "time_start = time.time()\n",
        "mean_results, std_results = s9.multiple_simulation_parallel(num_simulations)\n",
        "time_end = time.time()\n",
        "print(f\"Parallel simulation time for {num_simulations} runs: {time_end - time_start:.2f} seconds\")\n",
        "\n",
        "s9.generate_report(None, mean_results)\n",
        "plt.figure(figsize=(14, 8))\n",
        "x_labels = [\"Port Delay\", \"Crane Delay\", \"Load Time\", \"Unload Time\",\n",
        "            \"Departed Ships\", \"Avg Sim Clock\", \"Avg Arrival Time\",\n",
        "            \"Avg in Port Q\", \"Avg in Crane Q\",\n",
        "            \"Port Util (%)\", \"Crane Util (%)\"]\n",
        "\n",
        "plot_means = mean_results.copy()\n",
        "plot_std = std_results.copy()\n",
        "if len(plot_means) > 10:\n",
        "    plot_means[9] *= 100\n",
        "    plot_means[10] *= 100\n",
        "    plot_std[9] *= 100\n",
        "    plot_std[10] *= 100\n",
        "\n",
        "plt.bar(x_labels, plot_means, yerr=plot_std, color='skyblue', label='Mean with Std Dev', capsize=5)\n",
        "plt.xlabel(\"Metrics\")\n",
        "plt.ylabel(\"Values\")\n",
        "plt.title(f\"Simulation 9 Results (Means over {num_simulations} runs)\")\n",
        "plt.xticks(rotation=45, ha=\"right\")\n",
        "plt.legend()\n",
        "plt.tight_layout()\n",
        "plt.show()\n",
        "plt.close()"
      ]
    },
    {
      "cell_type": "markdown",
      "id": "1c9b6f45",
      "metadata": {
        "id": "1c9b6f45"
      },
      "source": [
        "Y aca tenemos los resultados que se guardan en un .txt"
      ]
    },
    {
      "cell_type": "raw",
      "id": "002c1785",
      "metadata": {
        "vscode": {
          "languageId": "raw"
        },
        "id": "002c1785"
      },
      "source": [
        "Simulation 9 - Port and Crane Statistics Report\n",
        "==================================================\n",
        "\n",
        "Mean Values (across simulations):\n",
        "------------------------------\n",
        "Port Delay (ships): 24.6799 hours\n",
        "Crane Delay (ships): 0.0239 hours\n",
        "Load Time (ships): 1.0000 hours\n",
        "Unload Time (ships): 7.5002 hours\n",
        "Departed Ships (total per sim): 100\n",
        "Average Simulation Clock: 156.8931 hours\n",
        "Average Inter-Arrival Time (ships): 1.0005 hours\n",
        "Time-Avg Ships in Port Queue: 25.1343\n",
        "Time-Avg Ships in Crane Queue: 0.0160\n",
        "Port Utilization: 98.35%\n",
        "Crane Utilization: 97.45%\n",
        "\n",
        "Simulation Parameters (per single run):\n",
        "------------------------------\n",
        "Number of Cranes: 5\n",
        "Number of Ports: 6\n",
        "Arrival Time: Uniform(0.5, 1.5) hours\n",
        "Loading Time: Uniform(0.5, 1.5) hours\n",
        "Unloading Time: Uniform(4.5, 10.5) hours\n",
        "Loading Probability: 10%\n",
        "Target Ships per Simulation: 100\n"
      ]
    },
    {
      "cell_type": "markdown",
      "id": "7856ed13",
      "metadata": {
        "id": "7856ed13"
      },
      "source": [
        "Algo interesante de los resultados es el tiempo de espera por gruas y por entrar al puerto, pues vemos que el mayor tiempo de espera en nuestra simulación es por entrar a los puertos, ya que la velocidad de descarga es mucho mayor que la velocidad de llegada, ahora el tiempo de espera por grúa, no es tanto porque dentro del puerto casi siempre solo abra un barco esperando por la grúa y solo tendrá que esperar a que se desocupe una, lo que no demorara mucho, y no se extendera excesivamente la fila, pues solo pueden estar en espera barcos que de por sí ya están en el puerto, pero para entrar en el puerto si llegan barcos constantemente.\n",
        "\n",
        "\n",
        "Esto también lo podemos ver reflejado en la utilización de puertos, que es casi 100% con una desviación estándar muy baja, pero la utilización de grúas es un poco más baja y tiene una desviación estándar más alta.\n"
      ]
    },
    {
      "cell_type": "markdown",
      "metadata": {
        "id": "xEV8rVW6M8FN"
      },
      "source": [
        "### Problema Número 10\n",
        "Personas llegan a una cafetería con tiempos entre llegadas de  10 ±  5 segundos. Hay dos áreas de servicio, una para comida calientes y la otra para sándwiches. El  área de comida caliente es seleccionada por 80% de los clientes y es atendida por 6 empleados. El área de sándwich tiene únicamente un empleado. Atender una comida caliente toma 1 min y un sándwich  toma 0.5 min. Cuando ellos han sido atendidos, se desplazan a la cafetería, la cual tiene una capacidad de servicio para 200 personas. El tiempo promedio para cada comida caliente  es 30  ±  10  minutos y para un sándwich , 15  ±  5   minutos. Evalué las colas  para cada servicio y la distribución del tiempo para terminar la comida, desde el tiempo de llegada. Simular para 1000 personas que terminan su comida."
      ],
      "id": "xEV8rVW6M8FN"
    },
    {
      "cell_type": "markdown",
      "metadata": {
        "id": "K4CLtREpM8FO"
      },
      "source": [
        "#### Definicion de valores de simulación"
      ],
      "id": "K4CLtREpM8FO"
    },
    {
      "cell_type": "markdown",
      "metadata": {
        "id": "iskqXSzlM8FO"
      },
      "source": [
        "##### Variables de estado del sistema\n",
        "Estas son variables que describen al sistema en cierto instante\n",
        "\n",
        "- **Clock**:\n",
        "  Describe el tiempo actual de la simulacion\n",
        "\n",
        "- **Lista de eventos**:\n",
        "  Contiene los próximos eventos a ocurrir, los cuales se describirán en breve.\n",
        "\n",
        "- **Estado empleados**:  \n",
        "  Indica si cada empleado está libre (0) u ocupado (1).\n",
        "\n",
        "- **Hora llegada original**:  \n",
        "  Guarda el tiempo en que cada cliente llegó inicialmente al sistema. Se usa para calcular el tiempo total de permanencia.\n",
        "\n",
        "- **Información asociada al siguiente evento**:  \n",
        "  - En eventos de salida (tipo 2 o 3), guarda el índice del empleado que atendió al cliente.  \n",
        "  - En eventos de consumo (tipo 4), guarda el tiempo en que inició el consumo.\n",
        "\n",
        "- **Tipo de siguiente evento**:  \n",
        "  Indica qué tipo de evento será el próximo en ocurrir.\n",
        "\n",
        "- **Clientes consumiendo**:  \n",
        "  Número de clientes que actualmente están en el área de consumo.\n",
        "\n",
        "- **Llegadas comida caliente**:  \n",
        "  Cola de espera del área de comida caliente. Cada elemento incluye el tiempo de llegada a la cola y el tiempo original al sistema.\n",
        "\n",
        "- **Llegadas sándwich**:  \n",
        "  Cola de espera del área de sándwiches. Cada elemento incluye el tiempo de llegada a la cola y el tiempo original al sistema.\n",
        "\n",
        "- **Llegadas a consumo**:  \n",
        "  Cola de espera para el área de consumo cuando está llena. Cada entrada incluye el tiempo de llegada a la cola, el tiempo original al sistema y el área de origen (1: comida caliente, 2: sándwich).\n",
        "\n",
        "- **Hora del último evento**:  \n",
        "  Marca el tiempo en que ocurrió el último evento procesado.\n",
        "\n"
      ],
      "id": "iskqXSzlM8FO"
    },
    {
      "cell_type": "markdown",
      "metadata": {
        "id": "EBuidZzEM8FO"
      },
      "source": [
        "##### Entidades y atributos"
      ],
      "id": "EBuidZzEM8FO"
    },
    {
      "cell_type": "markdown",
      "metadata": {
        "id": "4iMTYkluM8FO"
      },
      "source": [
        "Las entidades principales serían dos:\n",
        "\n",
        "- **Clientes**:  \n",
        "  Son las entidades principales que atraviesan el sistema. Llegan a la cafetería, eligen un tipo de comida (80% comida caliente, 20% sándwich), esperan ser atendidos, consumen su comida y luego salen. Cada cliente tiene atributos como el tiempo de llegada, tipo de comida, tiempos de espera, servicio y consumo.\n",
        "\n",
        "- **Empleados**:  \n",
        "  Son los recursos que atienden a los clientes. Hay 6 empleados asignados al área de comida caliente y 1 al área de sándwiches. Su estado puede ser libre u ocupado y se asocian a eventos de inicio y fin de servicio.\n"
      ],
      "id": "4iMTYkluM8FO"
    },
    {
      "cell_type": "markdown",
      "source": [
        "Algunos atributos realistas de los clientes serían los siguientes, aunque la simulación no requerirá todos ellos:\n",
        "\n",
        "| Atributo               | Descripción                                                          |\n",
        "|------------------------|----------------------------------------------------------------------|\n",
        "| `id`                   | Identificador único del cliente                                      |\n",
        "| `tLlegada`             | Hora en que el cliente llega a la cafetería                         |\n",
        "| `tipoComida`           | Tipo de comida solicitada (1: comida caliente, 2: sándwich)         |\n",
        "| `tInicioServicio`      | Hora en que comienza a ser atendido                                 |\n",
        "| `tFinServicio`         | Hora en que termina el servicio                                      |\n",
        "| `tInicioConsumo`       | Hora en que inicia su consumo en la cafetería                       |\n",
        "| `tFinConsumo`          | Hora en que finaliza su consumo                                     |\n",
        "| `tiempoTotalSistema`   | Tiempo total desde su llegada hasta que finaliza el consumo         |\n",
        "\n",
        "\n"
      ],
      "metadata": {
        "id": "soFCjPohQS59"
      },
      "id": "soFCjPohQS59"
    },
    {
      "cell_type": "markdown",
      "source": [
        "Y en el caso de los empleados:\n",
        "\n",
        "| Atributo               | Descripción                                                |\n",
        "|------------------------|------------------------------------------------------------|\n",
        "| `id`                   | Identificador único del empleado                           |\n",
        "| `area`                 | Área a la que pertenece (1: comida caliente, 2: sándwich)  |\n",
        "| `estado`               | Estado actual (0: libre, 1: ocupado)                        |\n",
        "| `tInicioServicio`      | Hora en que comenzó a atender al cliente actual            |\n",
        "| `tFinServicio`         | Hora en que terminará de atender al cliente actual         |\n"
      ],
      "metadata": {
        "id": "kDhtWZmNQVV9"
      },
      "id": "kDhtWZmNQVV9"
    },
    {
      "cell_type": "markdown",
      "source": [
        "##### Eventos"
      ],
      "metadata": {
        "id": "cXraQQOjQcqN"
      },
      "id": "cXraQQOjQcqN"
    },
    {
      "cell_type": "markdown",
      "metadata": {
        "id": "Gc9m7331M8FO"
      },
      "source": [
        "\n",
        "Se identificaron cuatro eventos principales para modelar el problema:\n",
        "\n",
        "1. **Llegada de cliente al área de servicio**  \n",
        "   Un nuevo cliente entra al sistema. Se decide si va al área de comida caliente (80%) o al área de sándwiches (20%). Si hay empleados disponibles, comienza el servicio; de lo contrario, entra en la cola correspondiente.\n",
        "\n",
        "2. **Salida del área de comida caliente**  \n",
        "   El cliente ha sido atendido por un empleado del área de comida caliente. Luego se dirige al área de consumo (si hay espacio disponible); si no, significa que se superó la capacidad del sistema. Si bien se pensó en añadir una cola para el consumo, esta no está en el problema original.\n",
        "\n",
        "3. **Salida del área de sándwiches**  \n",
        "   El cliente ha sido atendido por el empleado del área de sándwiches y pasa al área de consumo, si hay espacio.\n",
        "\n",
        "4. **Salida del área de consumo**  \n",
        "   El cliente ha terminado de comer. Se registra su salida del sistema y se actualizan estadísticas como el tiempo total de permanencia.\n",
        "\n",
        "\n",
        "Estos serán explicados más a detalle en los diagramas de flujo y, por supuesto, en el programa de simulación. Será claro que la separación de los eventos de salida de las áreas se dió para manejar fácilmente las colas de clientes en espera y los tiempos de consumo.\n",
        "\n",
        "\n"
      ],
      "id": "Gc9m7331M8FO"
    },
    {
      "cell_type": "markdown",
      "metadata": {
        "id": "MsdQRD-ZM8FP"
      },
      "source": [
        "##### Contadores y Acumuladores\n",
        "\n",
        "Los principales contadores estadísticos son los siguientes:\n",
        "\n",
        "- `areas_Employees_Status`: Estado de los empleados en cada área (ocupado o libre).\n",
        "- `area_Num_Consuming`: Sumatoria de clientes que se encuentran consumiendo en la cafetería.\n",
        "- `area_Num_Waiting_Consumption`: Total de clientes esperando para acceder al área de consumo.\n",
        "- `area_Num_Waiting_Hot`: Total de clientes en cola para el servicio de comida caliente.\n",
        "- `area_Num_Waiting_Sandwich`: Total de clientes en cola para el servicio de sándwiches.\n",
        "- `num_Delayed_Consumption`: Número de clientes que han tenido que esperar antes de consumir.\n",
        "- `num_Delayed_Hot`: Número de clientes que han tenido que esperar en el área de comida caliente.\n",
        "- `num_Delayed_Sandwich`: Número de clientes que han tenido que esperar en el área de sándwiches.\n",
        "- `num_Done_Clients`: Número total de clientes que han terminado su consumo y salido del sistema.\n",
        "- `total_Delay_Consuming`: Tiempo acumulado de permanencia en el área de consumo.\n",
        "- `total_Delay_For_Consumption`: Tiempo acumulado de espera para acceder al área de consumo.\n",
        "- `total_Delay_Hot`: Tiempo total de espera en la cola de comida caliente.\n",
        "- `total_Delay_Sandwich`: Tiempo total de espera en la cola de sándwiches.\n",
        "- `total_Time_In`: Tiempo total que los clientes han pasado en el sistema (llegada hasta salida).\n",
        "\n",
        "También hay contadores adicionales (para múltiples repeticiones):\n",
        "\n",
        "- `reps_Avgs`: Lista de promedios generales obtenidos por repetición del experimento (sin incluir ocupación individual).\n",
        "- `avg_Employee_Occupation`: Lista de promedios de ocupación individual de los empleados.\n",
        "- `sum_Reps_Avgs`: Sumatoria de promedios generales (sin incluir ocupación individual) acumulados en todas las repeticiones.\n",
        "- `sum_Avg_Employee_Occupation`: Sumatoria acumulada de promedios de ocupación individual de los empleados en todas las repeticiones.\n",
        "- `total_Times_In_List`: Lista de tiempos totales de estancia de los clientes (una por repetición).\n",
        "- `all_Times_In`: Lista completa de todos los tiempos de estancia de todos los clientes (todas las repeticiones).\n"
      ],
      "id": "MsdQRD-ZM8FP"
    },
    {
      "cell_type": "markdown",
      "metadata": {
        "id": "MxIHydIeM8FP"
      },
      "source": [
        "##### Medidas de Desempeño\n",
        "\n",
        "A continuación, se presentan las principales métricas de desempeño obtenidas a partir de la simulación del sistema de cafetería. No obstante, cabe aclarar que las solicitadas y más relevantes son las que evalúan las colas y los tiempos de duración en el sistema.\n",
        "\n",
        "- **Average delay in the service area**: *Tiempo promedio que un cliente espera antes de ser atendido en cualquier área de servicio.*\n",
        "- **Average delay for the hot food service area**: *Tiempo promedio de espera en la cola de comida caliente.*\n",
        "- **Average delay for the sandwich service area**: *Tiempo promedio de espera en la cola de sándwiches.*\n",
        "- **Average time consuming**: *Tiempo promedio que los clientes pasan consumiendo su comida.*\n",
        "- **Average time in the system**: *Tiempo total promedio que un cliente permanece en el sistema (desde que llega hasta que termina de consumir).*\n",
        "- **Average number in service queue**: *Promedio de clientes esperando en las colas de servicio.*\n",
        "- **Average number in hot food service queue**: *Promedio de clientes en la cola de comida caliente.*\n",
        "- **Average number in sandwich service queue**: *Promedio de clientes en la cola de sándwiches.*\n",
        "- **Average number in consumption area (consuming)**: *Promedio de clientes consumiendo dentro de la cafetería.*\n",
        "- **Employees occupation**: *Porcentaje promedio de tiempo en el que todos los empleados están ocupados.*\n",
        "- **Hot food service employees occupation**: *Porcentaje promedio de ocupación de los empleados del área de comida caliente.*\n",
        "- **Sandwich service employee occupation**: *Porcentaje de ocupación del empleado de la sección de sándwiches.*\n",
        "- **Consumption area utilization**: *Porcentaje promedio de uso del área de consumo respecto a su capacidad.*\n"
      ],
      "id": "MxIHydIeM8FP"
    },
    {
      "cell_type": "markdown",
      "metadata": {
        "id": "v-rVP9u8M8FP"
      },
      "source": [
        "#### Diagrama de flujo"
      ],
      "id": "v-rVP9u8M8FP"
    },
    {
      "cell_type": "markdown",
      "metadata": {
        "id": "2RcxNtq7M8FP"
      },
      "source": [
        "##### Diagrama del programa general\n",
        "\n",
        "El siguiente diagrama describe en general como funciona la rutina principal del programa, llamada main, que invoca a los diferentes eventos y las subrutinas de *timing* y actualización de estadísticas temporales acumuladas.\n",
        "\n",
        "![Diagrama del programa general](diagramas/main_10.png)\n",
        "\n"
      ],
      "id": "2RcxNtq7M8FP"
    },
    {
      "cell_type": "markdown",
      "source": [
        "Conviene destacar la posibilidad de múltiples experimentos en el programa principal, de modo que se obtienen resultados más precisos.\n",
        "\n",
        "De cualquier modo, esto no significa que no se pueda ejecutar una solo y se produzca el reporte convencional."
      ],
      "metadata": {
        "id": "ZjNzTGUFVKYR"
      },
      "id": "ZjNzTGUFVKYR"
    },
    {
      "cell_type": "markdown",
      "metadata": {
        "id": "NZid4epLM8FP"
      },
      "source": [
        "##### Diagramas de eventos\n",
        "\n",
        "A continuación, se muestran los diagramas de flujo de los eventos que tiene esta simulación, como se describieron anteriormente.\n",
        "\n",
        "![Diagrama de eventos](diagramas/arrive_depart_10.png)\n",
        "![Diagrama de eventos](diagramas/depart_depart_10.png)"
      ],
      "id": "NZid4epLM8FP"
    },
    {
      "cell_type": "markdown",
      "metadata": {
        "id": "M3sNS7PYM8FP"
      },
      "source": [
        "#### Resultados y Análisis"
      ],
      "id": "M3sNS7PYM8FP"
    },
    {
      "cell_type": "markdown",
      "metadata": {
        "id": "Ohn4tgBiM8FP"
      },
      "source": [
        "Finalmente, se procede a ejecutar varias simulaciones o experimentos y promediar los resultados, en este caso las simulaciones se realizan secuencialmente (una tras otra), como se indicó en el diagrama de flujo. Por ello se opta por usar una cantidad moderada de replicaciones."
      ],
      "id": "Ohn4tgBiM8FP"
    },
    {
      "cell_type": "code",
      "execution_count": null,
      "metadata": {
        "outputId": "40574fa1-5b16-439c-9230-f5ce8c156fce",
        "id": "9sDYQUCFM8FP"
      },
      "outputs": [
        {
          "name": "stdout",
          "output_type": "stream",
          "text": [
            "Parallel simulation time for 1000000 runs: 83.46 seconds\n"
          ]
        },
        {
          "data": {
            "image/png": "[encoded data removed]",
            "text/plain": [
              "<Figure size 1400x800 with 1 Axes>"
            ]
          },
          "metadata": {},
          "output_type": "display_data"
        }
      ],
      "source": [
        "from source.simulations import simulation_10 as s10\n",
        "import matplotlib.pyplot as plt\n",
        "import time\n",
        "\n",
        "### Parametros del programa ###\n",
        "REPS = 100\n",
        "REPS_SHOWN = 3\n",
        "\n",
        "### Parametros de la simulacion ###\n",
        "CONSUMPTION_QUEUE = False  # Existencia de cola de espera para el area de consumo\n",
        "ARRIVE_UNIFORM_RANGE = (5, 15)   # Rango de tiempo de llegada al area de servicio (en segundos)\n",
        "HOT_SERVICE_PROBABILITY = 0.8  # Probabilidad de que un cliente elija el area de servicio de comida caliente\n",
        "ATTENTION_TIMES = np.array([60,30], dtype=np.int32)  # Tiempo para comida caliente y para sandwich (en segundos)\n",
        "EATING_HOT_UNIFORM_RANGE = (20, 40)  # Rango de tiempo de consumo para comida caliente (en segundos)\n",
        "EATING_SANDWICH_UNIFORM_RANGE = (10, 20)  # Rango de tiempo de consumo para sandwich (en segundos)\n",
        "CAPACITY = 200  # Capacidad del area de consumo\n",
        "NUM_CLIENTS_REQUIRED = 1000  # Numero de clientes a procesar completamente\n",
        "NUM_EMPLOYEES_HOT = 6  # Numero de empleados en el area de servicio de comida caliente\n",
        "NUM_EMPLOYEES_SANDWICH = 1  # Numero de empleados en el area de servicio de sandwich\n",
        "\n",
        "# Ejecucion de las simulaciones\n",
        "simulation = s10.Simulation_10()\n",
        "time_start = time.time()\n",
        "simulation.main(REPS, REPS_SHOWN)\n",
        "time_end = time.time()\n",
        "print(f\"Sequential simulation time for {REPS} runs: {time_end - time_start:.2f} seconds\")\n"
      ],
      "id": "9sDYQUCFM8FP"
    },
    {
      "cell_type": "markdown",
      "source": [
        "La distribución del tiempo total en el sistema muestra un comportamiento mixto, con una primera meseta entre aproximadamente 700 y 1200 segundos, seguida de un aumento notorio en la densidad a partir de ese punto. Esto sugiere que hay al menos dos grupos principales de clientes: uno que completa su paso por el sistema en menor tiempo (posiblemente aquellos que acceden rápidamente al área de consumo), y otro que permanece más tiempo, probablemente por acumulación en las colas o diferencias en el tipo de servicio (comida caliente vs. sándwich). El salto visible en la densidad alrededor de los 1250 segundos también indica que hay una transición estructural en el flujo del sistema que afecta a muchos clientes de forma parecida.\n",
        "\n",
        "En general, la distribución se comporta como una especie de mezcla de uniformes con una ruptura o cambio de régimen claro, lo cual es coherente con la naturaleza del sistema simulado: una red de atención en donde existen tiempos constantes de servicio y de consumo, pero con aleatoriedad en las llegadas y decisiones de los clientes. La densidad se mantiene relativamente constante en el segundo tramo (1250 a 2400 s), lo que indica un flujo más estable en ese rango de tiempo. Este tipo de análisis puede ser útil para detectar cuellos de botella o fases del sistema donde el tiempo de permanencia se vuelve crítico."
      ],
      "metadata": {
        "id": "Je5Ps-22ZTWw"
      },
      "id": "Je5Ps-22ZTWw"
    },
    {
      "cell_type": "markdown",
      "metadata": {
        "id": "Y_eAcAKoM8FQ"
      },
      "source": [
        "Por otro lado, este es un ejemplo de los resultados del reporte final, que se guardan en un archivo \".txt\"."
      ],
      "id": "Y_eAcAKoM8FQ"
    },
    {
      "cell_type": "raw",
      "metadata": {
        "vscode": {
          "languageId": "raw"
        },
        "id": "ZlSm1lbbM8FQ"
      },
      "source": [
        "\n",
        "```\n",
        "Parameters\n",
        "\n",
        "  Capacity of the consumption area: 200 clients\n",
        "\n",
        "  Service attention time for hot food area: 60.00 seconds\n",
        "\n",
        "  Service attention time for sandwich area: 30.00 seconds\n",
        "\n",
        "\n",
        "\n",
        "\n",
        "============================== Final Summary ===============================\n",
        "\n",
        "\n",
        "Statistics (Average of 100 experiments)\n",
        "\n",
        "  Average delay in the service area: 8.58 seconds\n",
        "    Average delay for the hot food service area: 1.27 seconds\n",
        "    Average delay for the sandwich service area: 31.58 seconds\n",
        "\n",
        "  Average time consuming: 1556.59 seconds\n",
        "\n",
        "  Average time in the system: 1617.95 seconds\n",
        "\n",
        "  Average number in service queue: 0.91 clients\n",
        "    Average number in hot food service queue: 0.10 clients\n",
        "    Average number in sandwich service queue: 0.80 clients\n",
        "\n",
        "  Average number in consumption area (consuming): 152.81 clients\n",
        "\n",
        "  Employees occupation: 79.21 %\n",
        "    Hot food service employees occupation: 79.78 %\n",
        "      - Employee 1 occupation: 90.73 %\n",
        "      - Employee 2 occupation: 88.82 %\n",
        "      - Employee 3 occupation: 86.16 %\n",
        "      - Employee 4 occupation: 81.86 %\n",
        "      - Employee 5 occupation: 73.55 %\n",
        "      - Employee 6 occupation: 57.57 %\n",
        "    Sandwich service employee occupation: 75.80 %\n",
        "      - Employee 7 occupation: 75.80 %\n",
        "\n",
        "  Consumption area utilization: 76.40 %\n",
        "\n",
        "Time simulation ended: 11129.56 seconds | 185.49 minutes | 3.09 hours\n",
        "\n",
        "Totally served number: 1000.0 clients\n",
        "```\n",
        "\n"
      ],
      "id": "ZlSm1lbbM8FQ"
    },
    {
      "cell_type": "markdown",
      "metadata": {
        "id": "TDe6WK_YM8FQ"
      },
      "source": [
        "Los resultados obtenidos de la simulación proporcionan información sobre el rendimiento de la cafetería, enfocándose en los tiempos de espera, ocupación de empleados y uso del área de consumo.\n",
        "\n",
        "El retraso promedio en el área de servicio fue de 8.58 segundos, lo que sugiere que los clientes no tuvieron que esperar mucho para ser atendidos en general. La distribución de estos retrasos muestra que la área de comida caliente presentó un retraso promedio de 1.27 segundos, lo que refleja una operación eficiente. Por otro lado, la área de sándwiches experimentó un retraso promedio de 31.58 segundos, que es significativamente más alto, lo cual probablemente se debe a que solo hay un empleado atendiendo en esa área, lo que genera un cuello de botella.\n",
        "\n",
        "El tiempo promedio de consumo fue de 1556.59 segundos (aproximadamente 26 minutos), lo que sugiere que los clientes tardan un tiempo considerable para consumir sus alimentos en el área de consumo. Este valor es relativamente alto, lo que podría indicar que el tiempo de consumo es más largo de lo esperado.\n",
        "\n",
        "El tiempo total promedio de estancia en el sistema fue de 1617.95 segundos (aproximadamente 27 minutos), lo que incluye el tiempo de espera, el servicio y el consumo. Este valor es bastante alto, lo que indica que los clientes permanecen mucho tiempo en el sistema, lo que podría ser consecuencia del largo tiempo de consumo.\n",
        "\n",
        "En cuanto a las colas de servicio, el número promedio de clientes en cola fue de 0.91, lo que indica que en promedio, casi un cliente está esperando en la cola en cualquier momento. La cola de comida caliente tuvo un promedio de solo 0.10 clientes, mientras que la cola de sándwiches presentó un promedio de 0.80 clientes, lo que refleja la congestión en esa área debido al bajo número de empleados.\n",
        "\n",
        "En cuanto a la ocupación de los empleados, el promedio fue de 79.21%, lo que muestra una buena utilización de los recursos humanos. Sin embargo, se observa que algunos empleados de la área de comida caliente tienen una ocupación baja (alrededor de 57.57%), mientras que otros están más ocupados (hasta 90.73%). Esto sugiere que la carga de trabajo no está distribuida equitativamente, y algunos empleados están más ocupados que otros. El empleado de la área de sándwiches tiene una ocupación de 75.80%, lo que indica que está relativamente ocupado, pero se podría mejorar la eficiencia de esa área si se añaden más empleados.\n",
        "\n",
        "El porcentaje de uso del área de consumo fue de 76.40%, lo que indica que, a pesar de la capacidad del área para 200 personas, aproximadamente 152.81 clientes están utilizando el área de consumo en cualquier momento. Esto muestra una buena utilización del espacio, pero también sugiere que podría haber un margen para mejorar la distribución de clientes entre las áreas.\n",
        "\n",
        "La simulación duró 11129.56 segundos (aproximadamente 185.49 minutos o 3.09 horas), y durante ese tiempo, se atendieron un total de 1000 clientes. Este marco temporal refleja la duración de la simulación y permite evaluar el desempeño general del sistema.\n",
        "\n",
        "En resumen, los resultados muestran que la cafetería tiene una operación bastante eficiente en términos de atención a los clientes en la área de comida caliente, pero la área de sándwiches presenta un cuello de botella debido a la asignación de solo un empleado. Además, aunque la ocupación de los empleados es bastante alta, hay algunas disparidades en la distribución de tareas entre los empleados, lo que podría optimizarse. El tiempo total de estancia en el sistema es relativamente alto, principalmente debido al largo tiempo de consumo, lo que puede mejorarse para agilizar el flujo de clientes."
      ],
      "id": "TDe6WK_YM8FQ"
    }
  ],
  "metadata": {
    "kernelspec": {
      "display_name": "py313_env",
      "language": "python",
      "name": "python3"
    },
    "language_info": {
      "codemirror_mode": {
        "name": "ipython",
        "version": 3
      },
      "file_extension": ".py",
      "mimetype": "text/x-python",
      "name": "python",
      "nbconvert_exporter": "python",
      "pygments_lexer": "ipython3",
      "version": "3.13.2"
    },
    "colab": {
      "provenance": []
    }
  },
  "nbformat": 4,
  "nbformat_minor": 5
}